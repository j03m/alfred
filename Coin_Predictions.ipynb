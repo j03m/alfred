{
  "cells": [
    {
      "cell_type": "markdown",
      "metadata": {
        "id": "view-in-github",
        "colab_type": "text"
      },
      "source": [
        "<a href=\"https://colab.research.google.com/github/j03m/lstm-price-predictor/blob/main/Coin_Predictions.ipynb\" target=\"_parent\"><img src=\"https://colab.research.google.com/assets/colab-badge.svg\" alt=\"Open In Colab\"/></a>"
      ]
    },
    {
      "cell_type": "markdown",
      "metadata": {
        "id": "1H8K_tenSjC-"
      },
      "source": [
        "# Current Todo:\n",
        "\n",
        "\n",
        "Some ideas here: \n",
        "\n",
        "* Use pandas_ta to attach technical data to timeseries then use random forest to see if any features are super good.\n",
        "\n",
        "* Use vector_bt to back test your models\n",
        "\n",
        "* Integrate the different time granularity models, 15m etc into the core configs\n",
        "\n",
        "* Fix coinbase - we can't filter on volume amount without extra work\n",
        "\n",
        "* Add TA fields, use random forest to check which fields are the best, verify with mean square error (this could take a while)\n",
        "\n",
        "* Move to an \"always\" on model where we more closely monitor exits and entries. We can constantly check predictions and refine entry/exit points. Can we pick a better entry point? We had at some point discussed trying to predict all 4 values which would help. \n",
        "\n",
        "* Can we monitor and alarm/email the 15 min chart of an entry and see if it is\n",
        "move toward or away from our target?\n",
        "\n",
        "* pandas_ta strategy/back testers look interesting?\n",
        "\n",
        "Read me: https://www.kaggle.com/code/vuhuyduongnia/vn30-stock-prediction-by-lstm-model-accuracy-90\n"
      ]
    },
    {
      "cell_type": "markdown",
      "metadata": {
        "id": "3n66xj4BGKWM"
      },
      "source": [
        "#IMPORT DATASETS AND LIBRARIES\n"
      ]
    },
    {
      "cell_type": "code",
      "execution_count": 16,
      "metadata": {
        "colab": {
          "base_uri": "https://localhost:8080/"
        },
        "id": "9sPZpiBGYcYB",
        "outputId": "65533ffc-5af4-4fd8-9980-b37cea3dc8db"
      },
      "outputs": [
        {
          "output_type": "stream",
          "name": "stdout",
          "text": [
            "Drive already mounted at /content/drive; to attempt to forcibly remount, call drive.mount(\"/content/drive\", force_remount=True).\n"
          ]
        }
      ],
      "source": [
        "# Mount Google Drive\n",
        "from google.colab import drive\n",
        "drive.mount('/content/drive')\n",
        "\n",
        "import sys\n",
        "\n",
        "sys.path.insert(0,'/content/drive/My Drive/ml-trde-notebooks')\n",
        "\n",
        "model_version_token = \"2\"\n"
      ]
    },
    {
      "cell_type": "markdown",
      "source": [
        "# Library"
      ],
      "metadata": {
        "id": "xfz5XUwxV8WR"
      }
    },
    {
      "cell_type": "code",
      "source": [
        "# ***** WARNING : Install deps - This will BUILD TALib and takes a while!\n",
        "%run -i '/content/drive/My Drive/ml-trde-notebooks/installs.ipynb'"
      ],
      "metadata": {
        "id": "9KxDC9gpOMp0"
      },
      "execution_count": null,
      "outputs": []
    },
    {
      "cell_type": "code",
      "execution_count": 84,
      "metadata": {
        "id": "HbxX37RAYEXS",
        "colab": {
          "base_uri": "https://localhost:8080/"
        },
        "outputId": "a9ff47cf-3a12-436a-f0b9-b361ebefbf9d"
      },
      "outputs": [
        {
          "output_type": "stream",
          "name": "stdout",
          "text": [
            "Modified\n",
            "1673903579\n",
            "1673903579.0\n",
            "1673903579.0\n"
          ]
        }
      ],
      "source": [
        "# Executes this notebook in our space, making all of its functions/globals available\n",
        "%run -i '/content/drive/My Drive/ml-trde-notebooks/common.ipynb'"
      ]
    },
    {
      "cell_type": "code",
      "source": [
        "models = {}"
      ],
      "metadata": {
        "id": "nKPW15n5N_-J"
      },
      "execution_count": 17,
      "outputs": []
    },
    {
      "cell_type": "markdown",
      "metadata": {
        "id": "dlOVO-Erbhlq"
      },
      "source": [
        "# Data Loader"
      ]
    },
    {
      "cell_type": "code",
      "execution_count": 5,
      "metadata": {
        "colab": {
          "base_uri": "https://localhost:8080/"
        },
        "id": "FwBf9SLJbfPT",
        "outputId": "7f4fc850-1385-4b17-dc52-d1a1f405bbec"
      },
      "outputs": [
        {
          "output_type": "stream",
          "name": "stdout",
          "text": [
            "not training/not loading\n"
          ]
        }
      ],
      "source": [
        "if train_models:\n",
        "  #we don't need 15 right now because they get loaded in the train, that will prob need to be more sophisticated soon\n",
        "  #all_stock_df_15 = []\n",
        "  for ticker in tickers:\n",
        "    print(\"load:\", ticker)\n",
        "    df = sort_date(pd.read_csv(data_path +'/' + ticker + '.csv'))\n",
        "    all_stock_dfs.append(df)\n",
        "    #df2 = sort_date(pd.read_csv(data_path + '/' + ticker + '-15.csv').rename(columns={\"Datetime\":\"Date\"}))\n",
        "\n",
        "  for coin in coins:\n",
        "    print(\"load:\", coin)\n",
        "    df = sort_date(pd.read_csv(data_path +'/' + coin + '.csv'))\n",
        "    all_coin_dfs.append(df)\n",
        "else:\n",
        "  print(\"not training/not loading\")\n"
      ]
    },
    {
      "cell_type": "markdown",
      "source": [
        "# Training/Loading"
      ],
      "metadata": {
        "id": "Vg1itz6lUFpu"
      }
    },
    {
      "cell_type": "code",
      "source": [
        "build_and_stash_all_config_models()"
      ],
      "metadata": {
        "colab": {
          "base_uri": "https://localhost:8080/"
        },
        "id": "RSmRUKsEUILb",
        "outputId": "2719dc21-e84b-48a8-b73c-3865d5453fae"
      },
      "execution_count": 6,
      "outputs": [
        {
          "output_type": "stream",
          "name": "stdout",
          "text": [
            "build model: lstm_cv  features: 2\n",
            "build model: lstm_att_cv  features: 2\n",
            "build model: lstm_cv_rvi  features: 3\n",
            "build model: svm_cv  features: 2\n",
            "build model: lstm_xgb_cols  features: 9\n"
          ]
        }
      ]
    },
    {
      "cell_type": "markdown",
      "metadata": {
        "id": "uCNok5EX8ax_"
      },
      "source": [
        "## Load all models from disk"
      ]
    },
    {
      "cell_type": "code",
      "execution_count": 18,
      "metadata": {
        "colab": {
          "base_uri": "https://localhost:8080/"
        },
        "id": "CIKMLKIaF7Hr",
        "outputId": "82211034-a3fb-48c0-8980-3a0ec54e3d7a"
      },
      "outputs": [
        {
          "output_type": "stream",
          "name": "stdout",
          "text": [
            "loading: lstm_cv\n",
            "loading: lstm_att_cv\n",
            "loading: lstm_cv_rvi\n",
            "loading: svm_cv\n",
            "loading: lstm_xgb_cols\n",
            "models loaded\n"
          ]
        }
      ],
      "source": [
        "if load_models:\n",
        "  training_filter = model_config[\"training_filter\"]\n",
        "  for name in model_config[\"day_bar_models\"]:\n",
        "    if (name in training_filter): #skip training models\n",
        "      print(\"skipping: \", name)\n",
        "      continue\n",
        "    print(\"loading:\", name)\n",
        "    if name in model_config[\"load_type\"] and model_config[\"load_type\"][name] == \"joblib\":\n",
        "      models[name] = joblib.load(model_path + \"/\" + name  + \"-\" + model_version_token + \".joblib\") \n",
        "    else:\n",
        "      models[name] = keras.models.load_model(model_path + \"/\" + name + \"-\" + model_version_token + \".h15\")\n",
        "  lstm_15m = keras.models.load_model(model_path + \"/lstm_15m.h15\")\n",
        "  print (\"models loaded\")  \n",
        "\n",
        "else:\n",
        "  print (\"Not loading\")\n",
        "  \n"
      ]
    },
    {
      "cell_type": "markdown",
      "metadata": {
        "id": "4TvKViYBGL2Z"
      },
      "source": [
        "## Train models\n"
      ]
    },
    {
      "cell_type": "code",
      "execution_count": 8,
      "metadata": {
        "id": "KWY1rDnX9_-d"
      },
      "outputs": [],
      "source": [
        "histories = {}\n",
        "training_filter = model_config[\"training_filter\"]\n",
        "if train_models:\n",
        "  for name in model_config[\"day_bar_models\"]:\n",
        "    if (len(training_filter)!=0 and not name in training_filter):\n",
        "      print(\"skipping: \", name)\n",
        "      continue\n",
        "    build_model_from_config(models, name, model_config)\n",
        "    print(\"training: \", name)\n",
        "    # todo - we need a training set type flag in config for 15m models to get the correct files/data\n",
        "    training_dfs = get_training_datasets_for_model(name)\n",
        "    print(\"training dfs:\", len(training_dfs))\n",
        "    count = 0\n",
        "    for df in training_dfs:\n",
        "      print(\"training: \", name, \" df: \", count)\n",
        "      count+=1\n",
        "      history = train_config_model_against_df(name, model_config, df)\n",
        "      if not name in histories:\n",
        "        histories[name] = []\n",
        "      histories[name].append(history)\n",
        "  lstm_15m = build_15m_model()"
      ]
    },
    {
      "cell_type": "markdown",
      "metadata": {
        "id": "EXx4sqyHwFFO"
      },
      "source": [
        "## Train a single model against a single dataset"
      ]
    },
    {
      "cell_type": "code",
      "execution_count": 9,
      "metadata": {
        "id": "0gAspGyyxlIF"
      },
      "outputs": [],
      "source": [
        "#build_and_stash_all_config_models()\n",
        "#coin_dfs = get_raw_data_for_coin_list(180)"
      ]
    },
    {
      "cell_type": "code",
      "execution_count": 10,
      "metadata": {
        "id": "tpd2eCTCwACI"
      },
      "outputs": [],
      "source": [
        "#[model, history] = train_config_model_against_df(\"lstm_cv\", model_config, coin_dfs[\"FCON-USDT\"])\n",
        "#models[\"lstm_cv\"] = model\n",
        "#df_raw = get_coin_data_frames(180, \"FCON-USDT\")\n",
        "#test_name = \"lstm_ohlc\"\n",
        "#all_columns = model_config[\"column_sets\"][test_name]+gbl_target_column\n",
        "#[scaled_features, X, y, normal_features] = convert_to_training_dataset(df, columns=all_columns)  \n",
        "#[p_scaled, p] = predict_trade(models[test_name], test_name, \"FCON-USDT\", X, all_columns)\n",
        "#build_trade_model(p, normal_features, \"FCON-USDT\", test_name)"
      ]
    },
    {
      "cell_type": "markdown",
      "metadata": {
        "id": "W2gwuTvHwEeh"
      },
      "source": []
    },
    {
      "cell_type": "markdown",
      "metadata": {
        "id": "hDDL-Sj8v86C"
      },
      "source": [
        "# Save all models to disk"
      ]
    },
    {
      "cell_type": "code",
      "execution_count": 11,
      "metadata": {
        "colab": {
          "base_uri": "https://localhost:8080/"
        },
        "id": "Cv-3hoIZ-Uhu",
        "outputId": "36b6f07b-1219-4d6b-8e74-1f75f9516f88"
      },
      "outputs": [
        {
          "output_type": "stream",
          "name": "stdout",
          "text": [
            "Not saving\n"
          ]
        }
      ],
      "source": [
        "if save_models:\n",
        "  for name in model_config[\"day_bar_models\"]:\n",
        "    if (len(training_filter)!=0 and not name in training_filter):\n",
        "      print(\"skipping: \", name)\n",
        "      continue\n",
        "    print(\"saving:\", name)\n",
        "    if name in model_config[\"load_type\"] and model_config[\"load_type\"][name] == \"joblib\":\n",
        "      joblib.dump(models[name], model_path + \"/\" + name  + \"-\" + model_version_token + \".joblib\") \n",
        "    else:\n",
        "      models[name].save(model_path + \"/\" + name  + \"-\" + model_version_token + \".h15\")\n",
        "  lstm_15m.save(model_path + \"/lstm_15m-2.h15\")\n",
        "  print (\"models saved\")  \n",
        "else:\n",
        "  print (\"Not saving\")\n"
      ]
    },
    {
      "cell_type": "markdown",
      "metadata": {
        "id": "BScYqlck6ci6"
      },
      "source": [
        "# Visualize and Compare all Models"
      ]
    },
    {
      "cell_type": "code",
      "source": [
        "df_raw = get_coin_data_frames(30, \"DOGE3L-USDT\")"
      ],
      "metadata": {
        "id": "be5b_ilLMbxu"
      },
      "execution_count": 86,
      "outputs": []
    },
    {
      "cell_type": "code",
      "execution_count": 87,
      "metadata": {
        "colab": {
          "base_uri": "https://localhost:8080/",
          "height": 1174
        },
        "id": "6IRenxiXDLJY",
        "outputId": "924a15dd-48ec-4211-d9bf-26d8d266d6a5"
      },
      "outputs": [
        {
          "output_type": "stream",
          "name": "stdout",
          "text": [
            "key: lstm_cv\n",
            "testing: lstm_cv\n",
            "1/1 [==============================] - 0s 27ms/step\n",
            "predicted mse for model:  lstm_cv 0.00017016485715844567\n",
            "profit for model:  lstm_cv 5744.500532313687\n",
            "key: lstm_att_cv\n",
            "testing: lstm_att_cv\n",
            "1/1 [==============================] - 0s 34ms/step\n",
            "predicted mse for model:  lstm_att_cv 0.0008546609715172177\n",
            "profit for model:  lstm_att_cv 5744.500532313687\n",
            "key: lstm_cv_rvi\n",
            "testing: lstm_cv_rvi\n",
            "1/1 [==============================] - 0s 42ms/step\n",
            "predicted mse for model:  lstm_cv_rvi 0.00034420904290522435\n",
            "profit for model:  lstm_cv_rvi 5744.500532313687\n",
            "key: svm_cv\n",
            "testing: svm_cv\n",
            "1/1 [==============================] - 0s 38ms/step\n",
            "predicted mse for model:  svm_cv 0.00027651792699803367\n",
            "profit for model:  svm_cv 5744.500532313687\n",
            "key: lstm_xgb_cols\n",
            "testing: lstm_xgb_cols\n",
            "1/1 [==============================] - 0s 66ms/step\n",
            "predicted mse for model:  lstm_xgb_cols 0.004774967095605961\n",
            "profit for model:  lstm_xgb_cols 3726.980987227878\n"
          ]
        },
        {
          "output_type": "display_data",
          "data": {
            "text/html": [
              "<html>\n",
              "<head><meta charset=\"utf-8\" /></head>\n",
              "<body>\n",
              "    <div>            <script src=\"https://cdnjs.cloudflare.com/ajax/libs/mathjax/2.7.5/MathJax.js?config=TeX-AMS-MML_SVG\"></script><script type=\"text/javascript\">if (window.MathJax) {MathJax.Hub.Config({SVG: {font: \"STIX-Web\"}});}</script>                <script type=\"text/javascript\">window.PlotlyConfig = {MathJaxConfig: 'local'};</script>\n",
              "        <script src=\"https://cdn.plot.ly/plotly-2.8.3.min.js\"></script>                <div id=\"88677897-cf77-4d2c-a683-8e08bd650370\" class=\"plotly-graph-div\" style=\"height:525px; width:100%;\"></div>            <script type=\"text/javascript\">                                    window.PLOTLYENV=window.PLOTLYENV || {};                                    if (document.getElementById(\"88677897-cf77-4d2c-a683-8e08bd650370\")) {                    Plotly.newPlot(                        \"88677897-cf77-4d2c-a683-8e08bd650370\",                        [{\"name\":\"Close\",\"x\":[\"2022-12-18T00:00:00\",\"2022-12-19T00:00:00\",\"2022-12-20T00:00:00\",\"2022-12-21T00:00:00\",\"2022-12-22T00:00:00\",\"2022-12-23T00:00:00\",\"2022-12-24T00:00:00\",\"2022-12-25T00:00:00\",\"2022-12-26T00:00:00\",\"2022-12-27T00:00:00\",\"2022-12-28T00:00:00\",\"2022-12-29T00:00:00\",\"2022-12-30T00:00:00\",\"2022-12-31T00:00:00\",\"2023-01-01T00:00:00\",\"2023-01-02T00:00:00\",\"2023-01-03T00:00:00\",\"2023-01-04T00:00:00\",\"2023-01-05T00:00:00\",\"2023-01-06T00:00:00\",\"2023-01-07T00:00:00\",\"2023-01-08T00:00:00\",\"2023-01-09T00:00:00\",\"2023-01-10T00:00:00\",\"2023-01-11T00:00:00\",\"2023-01-12T00:00:00\",\"2023-01-13T00:00:00\",\"2023-01-14T00:00:00\",\"2023-01-15T00:00:00\"],\"y\":[0.7181008902077155,0.2314540059347181,0.41839762611275955,0.3323442136498518,0.510385756676558,0.5311572700296738,0.5489614243323446,0.45103857566765604,0.41839762611275955,0.3056379821958459,0.10682492581602387,0.1454005934718101,0.0,0.0771513353115727,0.05341246290801194,0.12166172106824935,0.07121661721068251,0.19287833827893186,0.11275964391691407,0.15430267062314562,0.13056379821958464,0.20771513353115734,0.3086053412462908,0.4272997032640953,0.4599406528189911,0.560830860534125,0.7893175074183978,1.0000000000000002,0.9050445103857572],\"type\":\"scatter\"},{\"name\":\"lstm_cv\",\"x\":[\"2022-12-18T00:00:00\",\"2022-12-19T00:00:00\",\"2022-12-20T00:00:00\",\"2022-12-21T00:00:00\",\"2022-12-22T00:00:00\",\"2022-12-23T00:00:00\",\"2022-12-24T00:00:00\",\"2022-12-25T00:00:00\",\"2022-12-26T00:00:00\",\"2022-12-27T00:00:00\",\"2022-12-28T00:00:00\",\"2022-12-29T00:00:00\",\"2022-12-30T00:00:00\",\"2022-12-31T00:00:00\",\"2023-01-01T00:00:00\",\"2023-01-02T00:00:00\",\"2023-01-03T00:00:00\",\"2023-01-04T00:00:00\",\"2023-01-05T00:00:00\",\"2023-01-06T00:00:00\",\"2023-01-07T00:00:00\",\"2023-01-08T00:00:00\",\"2023-01-09T00:00:00\",\"2023-01-10T00:00:00\",\"2023-01-11T00:00:00\",\"2023-01-12T00:00:00\",\"2023-01-13T00:00:00\",\"2023-01-14T00:00:00\",\"2023-01-15T00:00:00\"],\"y\":[0.7314913272857666,0.22414788603782654,0.4133114218711853,0.34544724225997925,0.4963911175727844,0.5338837504386902,0.5685444474220276,0.4566580057144165,0.4322858452796936,0.3116859793663025,0.1010320633649826,0.1370188593864441,-0.0006511956453323364,0.07267884165048599,0.04504593461751938,0.1109156534075737,0.06812163442373276,0.18748393654823303,0.10321156680583954,0.14750070869922638,0.12492048740386963,0.20352014899253845,0.34579771757125854,0.41431498527526855,0.4576237201690674,0.5519207715988159,0.8021678328514099,0.9668436646461487,0.9198884963989258],\"type\":\"scatter\"},{\"name\":\"lstm_att_cv\",\"x\":[\"2022-12-18T00:00:00\",\"2022-12-19T00:00:00\",\"2022-12-20T00:00:00\",\"2022-12-21T00:00:00\",\"2022-12-22T00:00:00\",\"2022-12-23T00:00:00\",\"2022-12-24T00:00:00\",\"2022-12-25T00:00:00\",\"2022-12-26T00:00:00\",\"2022-12-27T00:00:00\",\"2022-12-28T00:00:00\",\"2022-12-29T00:00:00\",\"2022-12-30T00:00:00\",\"2022-12-31T00:00:00\",\"2023-01-01T00:00:00\",\"2023-01-02T00:00:00\",\"2023-01-03T00:00:00\",\"2023-01-04T00:00:00\",\"2023-01-05T00:00:00\",\"2023-01-06T00:00:00\",\"2023-01-07T00:00:00\",\"2023-01-08T00:00:00\",\"2023-01-09T00:00:00\",\"2023-01-10T00:00:00\",\"2023-01-11T00:00:00\",\"2023-01-12T00:00:00\",\"2023-01-13T00:00:00\",\"2023-01-14T00:00:00\",\"2023-01-15T00:00:00\"],\"y\":[0.6984999179840088,0.24588102102279663,0.4049452543258667,0.3532574474811554,0.4807223081588745,0.5177863836288452,0.5421215295791626,0.4398338794708252,0.4121741056442261,0.29872530698776245,0.1046520248055458,0.14062842726707458,0.011487901210784912,0.07352656871080399,0.048572033643722534,0.11609991639852524,0.07255345582962036,0.18752402067184448,0.10619989782571793,0.14763692021369934,0.12573185563087463,0.19993215799331665,0.3771924078464508,0.3983567953109741,0.4405573010444641,0.5121143460273743,0.7610169649124146,0.8927962779998779,0.8697784543037415],\"type\":\"scatter\"},{\"name\":\"lstm_cv_rvi\",\"x\":[\"2022-12-18T00:00:00\",\"2022-12-19T00:00:00\",\"2022-12-20T00:00:00\",\"2022-12-21T00:00:00\",\"2022-12-22T00:00:00\",\"2022-12-23T00:00:00\",\"2022-12-24T00:00:00\",\"2022-12-25T00:00:00\",\"2022-12-26T00:00:00\",\"2022-12-27T00:00:00\",\"2022-12-28T00:00:00\",\"2022-12-29T00:00:00\",\"2022-12-30T00:00:00\",\"2022-12-31T00:00:00\",\"2023-01-01T00:00:00\",\"2023-01-02T00:00:00\",\"2023-01-03T00:00:00\",\"2023-01-04T00:00:00\",\"2023-01-05T00:00:00\",\"2023-01-06T00:00:00\",\"2023-01-07T00:00:00\",\"2023-01-08T00:00:00\",\"2023-01-09T00:00:00\",\"2023-01-10T00:00:00\",\"2023-01-11T00:00:00\",\"2023-01-12T00:00:00\",\"2023-01-13T00:00:00\",\"2023-01-14T00:00:00\",\"2023-01-15T00:00:00\"],\"y\":[0.7123184204101562,0.2120112180709839,0.40803712606430054,0.34799110889434814,0.4886249601840973,0.5230793952941895,0.55060875415802,0.44684818387031555,0.41682761907577515,0.30445975065231323,0.08035548031330109,0.14468562602996826,0.011642038822174072,0.077525295317173,0.0470338799059391,0.11164095252752304,0.05697614327073097,0.18843446671962738,0.1042705550789833,0.15420851111412048,0.13076859712600708,0.20662733912467957,0.3221001923084259,0.40122881531715393,0.449754536151886,0.5246401429176331,0.7795791625976562,0.931388258934021,0.8876079320907593],\"type\":\"scatter\"},{\"name\":\"svm_cv\",\"x\":[\"2022-12-18T00:00:00\",\"2022-12-19T00:00:00\",\"2022-12-20T00:00:00\",\"2022-12-21T00:00:00\",\"2022-12-22T00:00:00\",\"2022-12-23T00:00:00\",\"2022-12-24T00:00:00\",\"2022-12-25T00:00:00\",\"2022-12-26T00:00:00\",\"2022-12-27T00:00:00\",\"2022-12-28T00:00:00\",\"2022-12-29T00:00:00\",\"2022-12-30T00:00:00\",\"2022-12-31T00:00:00\",\"2023-01-01T00:00:00\",\"2023-01-02T00:00:00\",\"2023-01-03T00:00:00\",\"2023-01-04T00:00:00\",\"2023-01-05T00:00:00\",\"2023-01-06T00:00:00\",\"2023-01-07T00:00:00\",\"2023-01-08T00:00:00\",\"2023-01-09T00:00:00\",\"2023-01-10T00:00:00\",\"2023-01-11T00:00:00\",\"2023-01-12T00:00:00\",\"2023-01-13T00:00:00\",\"2023-01-14T00:00:00\",\"2023-01-15T00:00:00\"],\"y\":[0.7126891016960144,0.23543775081634521,0.42774373292922974,0.3505288362503052,0.49095726013183594,0.5287083387374878,0.5522692203521729,0.4578647315502167,0.43466779589653015,0.3163130283355713,0.10317926853895187,0.1448712944984436,0.001021742820739746,0.06409594416618347,0.03481973707675934,0.11789903044700623,0.04510141909122467,0.19639421999454498,0.10754864662885666,0.15495099127292633,0.12724769115447998,0.20769205689430237,0.3680204153060913,0.42580267786979675,0.4596902132034302,0.5407629609107971,0.7804481387138367,0.9621275067329407,0.9018592238426208],\"type\":\"scatter\"},{\"name\":\"lstm_xgb_cols\",\"x\":[\"2022-12-18T00:00:00\",\"2022-12-19T00:00:00\",\"2022-12-20T00:00:00\",\"2022-12-21T00:00:00\",\"2022-12-22T00:00:00\",\"2022-12-23T00:00:00\",\"2022-12-24T00:00:00\",\"2022-12-25T00:00:00\",\"2022-12-26T00:00:00\",\"2022-12-27T00:00:00\",\"2022-12-28T00:00:00\",\"2022-12-29T00:00:00\",\"2022-12-30T00:00:00\",\"2022-12-31T00:00:00\",\"2023-01-01T00:00:00\",\"2023-01-02T00:00:00\",\"2023-01-03T00:00:00\",\"2023-01-04T00:00:00\",\"2023-01-05T00:00:00\",\"2023-01-06T00:00:00\",\"2023-01-07T00:00:00\",\"2023-01-08T00:00:00\",\"2023-01-09T00:00:00\",\"2023-01-10T00:00:00\",\"2023-01-11T00:00:00\",\"2023-01-12T00:00:00\",\"2023-01-13T00:00:00\",\"2023-01-14T00:00:00\",\"2023-01-15T00:00:00\"],\"y\":[0.7332366108894348,0.3945921063423157,0.33662503957748413,0.3163478374481201,0.421430379152298,0.5604240894317627,0.541527271270752,0.41599905490875244,0.389023095369339,0.33992820978164673,0.19237521290779114,0.08491848409175873,-0.009672604501247406,0.03470522165298462,0.03843226283788681,0.07297918200492859,0.054933492094278336,0.13917949795722961,0.17868036031723022,0.08030126988887787,0.13844504952430725,0.17396888136863708,0.3380056619644165,0.3298177719116211,0.36537599563598633,0.4528254568576813,0.6519368290901184,0.9539702534675598,0.800201416015625],\"type\":\"scatter\"}],                        {\"template\":{\"data\":{\"bar\":[{\"error_x\":{\"color\":\"#2a3f5f\"},\"error_y\":{\"color\":\"#2a3f5f\"},\"marker\":{\"line\":{\"color\":\"#E5ECF6\",\"width\":0.5},\"pattern\":{\"fillmode\":\"overlay\",\"size\":10,\"solidity\":0.2}},\"type\":\"bar\"}],\"barpolar\":[{\"marker\":{\"line\":{\"color\":\"#E5ECF6\",\"width\":0.5},\"pattern\":{\"fillmode\":\"overlay\",\"size\":10,\"solidity\":0.2}},\"type\":\"barpolar\"}],\"carpet\":[{\"aaxis\":{\"endlinecolor\":\"#2a3f5f\",\"gridcolor\":\"white\",\"linecolor\":\"white\",\"minorgridcolor\":\"white\",\"startlinecolor\":\"#2a3f5f\"},\"baxis\":{\"endlinecolor\":\"#2a3f5f\",\"gridcolor\":\"white\",\"linecolor\":\"white\",\"minorgridcolor\":\"white\",\"startlinecolor\":\"#2a3f5f\"},\"type\":\"carpet\"}],\"choropleth\":[{\"colorbar\":{\"outlinewidth\":0,\"ticks\":\"\"},\"type\":\"choropleth\"}],\"contour\":[{\"colorbar\":{\"outlinewidth\":0,\"ticks\":\"\"},\"colorscale\":[[0.0,\"#0d0887\"],[0.1111111111111111,\"#46039f\"],[0.2222222222222222,\"#7201a8\"],[0.3333333333333333,\"#9c179e\"],[0.4444444444444444,\"#bd3786\"],[0.5555555555555556,\"#d8576b\"],[0.6666666666666666,\"#ed7953\"],[0.7777777777777778,\"#fb9f3a\"],[0.8888888888888888,\"#fdca26\"],[1.0,\"#f0f921\"]],\"type\":\"contour\"}],\"contourcarpet\":[{\"colorbar\":{\"outlinewidth\":0,\"ticks\":\"\"},\"type\":\"contourcarpet\"}],\"heatmap\":[{\"colorbar\":{\"outlinewidth\":0,\"ticks\":\"\"},\"colorscale\":[[0.0,\"#0d0887\"],[0.1111111111111111,\"#46039f\"],[0.2222222222222222,\"#7201a8\"],[0.3333333333333333,\"#9c179e\"],[0.4444444444444444,\"#bd3786\"],[0.5555555555555556,\"#d8576b\"],[0.6666666666666666,\"#ed7953\"],[0.7777777777777778,\"#fb9f3a\"],[0.8888888888888888,\"#fdca26\"],[1.0,\"#f0f921\"]],\"type\":\"heatmap\"}],\"heatmapgl\":[{\"colorbar\":{\"outlinewidth\":0,\"ticks\":\"\"},\"colorscale\":[[0.0,\"#0d0887\"],[0.1111111111111111,\"#46039f\"],[0.2222222222222222,\"#7201a8\"],[0.3333333333333333,\"#9c179e\"],[0.4444444444444444,\"#bd3786\"],[0.5555555555555556,\"#d8576b\"],[0.6666666666666666,\"#ed7953\"],[0.7777777777777778,\"#fb9f3a\"],[0.8888888888888888,\"#fdca26\"],[1.0,\"#f0f921\"]],\"type\":\"heatmapgl\"}],\"histogram\":[{\"marker\":{\"pattern\":{\"fillmode\":\"overlay\",\"size\":10,\"solidity\":0.2}},\"type\":\"histogram\"}],\"histogram2d\":[{\"colorbar\":{\"outlinewidth\":0,\"ticks\":\"\"},\"colorscale\":[[0.0,\"#0d0887\"],[0.1111111111111111,\"#46039f\"],[0.2222222222222222,\"#7201a8\"],[0.3333333333333333,\"#9c179e\"],[0.4444444444444444,\"#bd3786\"],[0.5555555555555556,\"#d8576b\"],[0.6666666666666666,\"#ed7953\"],[0.7777777777777778,\"#fb9f3a\"],[0.8888888888888888,\"#fdca26\"],[1.0,\"#f0f921\"]],\"type\":\"histogram2d\"}],\"histogram2dcontour\":[{\"colorbar\":{\"outlinewidth\":0,\"ticks\":\"\"},\"colorscale\":[[0.0,\"#0d0887\"],[0.1111111111111111,\"#46039f\"],[0.2222222222222222,\"#7201a8\"],[0.3333333333333333,\"#9c179e\"],[0.4444444444444444,\"#bd3786\"],[0.5555555555555556,\"#d8576b\"],[0.6666666666666666,\"#ed7953\"],[0.7777777777777778,\"#fb9f3a\"],[0.8888888888888888,\"#fdca26\"],[1.0,\"#f0f921\"]],\"type\":\"histogram2dcontour\"}],\"mesh3d\":[{\"colorbar\":{\"outlinewidth\":0,\"ticks\":\"\"},\"type\":\"mesh3d\"}],\"parcoords\":[{\"line\":{\"colorbar\":{\"outlinewidth\":0,\"ticks\":\"\"}},\"type\":\"parcoords\"}],\"pie\":[{\"automargin\":true,\"type\":\"pie\"}],\"scatter\":[{\"marker\":{\"colorbar\":{\"outlinewidth\":0,\"ticks\":\"\"}},\"type\":\"scatter\"}],\"scatter3d\":[{\"line\":{\"colorbar\":{\"outlinewidth\":0,\"ticks\":\"\"}},\"marker\":{\"colorbar\":{\"outlinewidth\":0,\"ticks\":\"\"}},\"type\":\"scatter3d\"}],\"scattercarpet\":[{\"marker\":{\"colorbar\":{\"outlinewidth\":0,\"ticks\":\"\"}},\"type\":\"scattercarpet\"}],\"scattergeo\":[{\"marker\":{\"colorbar\":{\"outlinewidth\":0,\"ticks\":\"\"}},\"type\":\"scattergeo\"}],\"scattergl\":[{\"marker\":{\"colorbar\":{\"outlinewidth\":0,\"ticks\":\"\"}},\"type\":\"scattergl\"}],\"scattermapbox\":[{\"marker\":{\"colorbar\":{\"outlinewidth\":0,\"ticks\":\"\"}},\"type\":\"scattermapbox\"}],\"scatterpolar\":[{\"marker\":{\"colorbar\":{\"outlinewidth\":0,\"ticks\":\"\"}},\"type\":\"scatterpolar\"}],\"scatterpolargl\":[{\"marker\":{\"colorbar\":{\"outlinewidth\":0,\"ticks\":\"\"}},\"type\":\"scatterpolargl\"}],\"scatterternary\":[{\"marker\":{\"colorbar\":{\"outlinewidth\":0,\"ticks\":\"\"}},\"type\":\"scatterternary\"}],\"surface\":[{\"colorbar\":{\"outlinewidth\":0,\"ticks\":\"\"},\"colorscale\":[[0.0,\"#0d0887\"],[0.1111111111111111,\"#46039f\"],[0.2222222222222222,\"#7201a8\"],[0.3333333333333333,\"#9c179e\"],[0.4444444444444444,\"#bd3786\"],[0.5555555555555556,\"#d8576b\"],[0.6666666666666666,\"#ed7953\"],[0.7777777777777778,\"#fb9f3a\"],[0.8888888888888888,\"#fdca26\"],[1.0,\"#f0f921\"]],\"type\":\"surface\"}],\"table\":[{\"cells\":{\"fill\":{\"color\":\"#EBF0F8\"},\"line\":{\"color\":\"white\"}},\"header\":{\"fill\":{\"color\":\"#C8D4E3\"},\"line\":{\"color\":\"white\"}},\"type\":\"table\"}]},\"layout\":{\"annotationdefaults\":{\"arrowcolor\":\"#2a3f5f\",\"arrowhead\":0,\"arrowwidth\":1},\"autotypenumbers\":\"strict\",\"coloraxis\":{\"colorbar\":{\"outlinewidth\":0,\"ticks\":\"\"}},\"colorscale\":{\"diverging\":[[0,\"#8e0152\"],[0.1,\"#c51b7d\"],[0.2,\"#de77ae\"],[0.3,\"#f1b6da\"],[0.4,\"#fde0ef\"],[0.5,\"#f7f7f7\"],[0.6,\"#e6f5d0\"],[0.7,\"#b8e186\"],[0.8,\"#7fbc41\"],[0.9,\"#4d9221\"],[1,\"#276419\"]],\"sequential\":[[0.0,\"#0d0887\"],[0.1111111111111111,\"#46039f\"],[0.2222222222222222,\"#7201a8\"],[0.3333333333333333,\"#9c179e\"],[0.4444444444444444,\"#bd3786\"],[0.5555555555555556,\"#d8576b\"],[0.6666666666666666,\"#ed7953\"],[0.7777777777777778,\"#fb9f3a\"],[0.8888888888888888,\"#fdca26\"],[1.0,\"#f0f921\"]],\"sequentialminus\":[[0.0,\"#0d0887\"],[0.1111111111111111,\"#46039f\"],[0.2222222222222222,\"#7201a8\"],[0.3333333333333333,\"#9c179e\"],[0.4444444444444444,\"#bd3786\"],[0.5555555555555556,\"#d8576b\"],[0.6666666666666666,\"#ed7953\"],[0.7777777777777778,\"#fb9f3a\"],[0.8888888888888888,\"#fdca26\"],[1.0,\"#f0f921\"]]},\"colorway\":[\"#636efa\",\"#EF553B\",\"#00cc96\",\"#ab63fa\",\"#FFA15A\",\"#19d3f3\",\"#FF6692\",\"#B6E880\",\"#FF97FF\",\"#FECB52\"],\"font\":{\"color\":\"#2a3f5f\"},\"geo\":{\"bgcolor\":\"white\",\"lakecolor\":\"white\",\"landcolor\":\"#E5ECF6\",\"showlakes\":true,\"showland\":true,\"subunitcolor\":\"white\"},\"hoverlabel\":{\"align\":\"left\"},\"hovermode\":\"closest\",\"mapbox\":{\"style\":\"light\"},\"paper_bgcolor\":\"white\",\"plot_bgcolor\":\"#E5ECF6\",\"polar\":{\"angularaxis\":{\"gridcolor\":\"white\",\"linecolor\":\"white\",\"ticks\":\"\"},\"bgcolor\":\"#E5ECF6\",\"radialaxis\":{\"gridcolor\":\"white\",\"linecolor\":\"white\",\"ticks\":\"\"}},\"scene\":{\"xaxis\":{\"backgroundcolor\":\"#E5ECF6\",\"gridcolor\":\"white\",\"gridwidth\":2,\"linecolor\":\"white\",\"showbackground\":true,\"ticks\":\"\",\"zerolinecolor\":\"white\"},\"yaxis\":{\"backgroundcolor\":\"#E5ECF6\",\"gridcolor\":\"white\",\"gridwidth\":2,\"linecolor\":\"white\",\"showbackground\":true,\"ticks\":\"\",\"zerolinecolor\":\"white\"},\"zaxis\":{\"backgroundcolor\":\"#E5ECF6\",\"gridcolor\":\"white\",\"gridwidth\":2,\"linecolor\":\"white\",\"showbackground\":true,\"ticks\":\"\",\"zerolinecolor\":\"white\"}},\"shapedefaults\":{\"line\":{\"color\":\"#2a3f5f\"}},\"ternary\":{\"aaxis\":{\"gridcolor\":\"white\",\"linecolor\":\"white\",\"ticks\":\"\"},\"baxis\":{\"gridcolor\":\"white\",\"linecolor\":\"white\",\"ticks\":\"\"},\"bgcolor\":\"#E5ECF6\",\"caxis\":{\"gridcolor\":\"white\",\"linecolor\":\"white\",\"ticks\":\"\"}},\"title\":{\"x\":0.05},\"xaxis\":{\"automargin\":true,\"gridcolor\":\"white\",\"linecolor\":\"white\",\"ticks\":\"\",\"title\":{\"standoff\":15},\"zerolinecolor\":\"white\",\"zerolinewidth\":2},\"yaxis\":{\"automargin\":true,\"gridcolor\":\"white\",\"linecolor\":\"white\",\"ticks\":\"\",\"title\":{\"standoff\":15},\"zerolinecolor\":\"white\",\"zerolinewidth\":2}}},\"xaxis\":{\"anchor\":\"y\",\"domain\":[0.0,1.0]},\"yaxis\":{\"anchor\":\"x\",\"domain\":[0.0,1.0]},\"legend\":{\"tracegroupgap\":0},\"title\":{\"text\":\"wow\"}},                        {\"responsive\": true}                    ).then(function(){\n",
              "                            \n",
              "var gd = document.getElementById('88677897-cf77-4d2c-a683-8e08bd650370');\n",
              "var x = new MutationObserver(function (mutations, observer) {{\n",
              "        var display = window.getComputedStyle(gd).display;\n",
              "        if (!display || display === 'none') {{\n",
              "            console.log([gd, 'removed!']);\n",
              "            Plotly.purge(gd);\n",
              "            observer.disconnect();\n",
              "        }}\n",
              "}});\n",
              "\n",
              "// Listen for the removal of the full notebook cells\n",
              "var notebookContainer = gd.closest('#notebook-container');\n",
              "if (notebookContainer) {{\n",
              "    x.observe(notebookContainer, {childList: true});\n",
              "}}\n",
              "\n",
              "// Listen for the clearing of the current output cell\n",
              "var outputEl = gd.closest('.output');\n",
              "if (outputEl) {{\n",
              "    x.observe(outputEl, {childList: true});\n",
              "}}\n",
              "\n",
              "                        })                };                            </script>        </div>\n",
              "</body>\n",
              "</html>"
            ]
          },
          "metadata": {}
        },
        {
          "output_type": "execute_result",
          "data": {
            "text/plain": [
              "               0        1           2\n",
              "0        lstm_cv 0.000170 5744.500532\n",
              "0    lstm_att_cv 0.000855 5744.500532\n",
              "0    lstm_cv_rvi 0.000344 5744.500532\n",
              "0         svm_cv 0.000277 5744.500532\n",
              "0  lstm_xgb_cols 0.004775 3726.980987"
            ],
            "text/html": [
              "\n",
              "  <div id=\"df-8457753d-3fc3-421a-b3dd-764568cecf6f\">\n",
              "    <div class=\"colab-df-container\">\n",
              "      <div>\n",
              "<style scoped>\n",
              "    .dataframe tbody tr th:only-of-type {\n",
              "        vertical-align: middle;\n",
              "    }\n",
              "\n",
              "    .dataframe tbody tr th {\n",
              "        vertical-align: top;\n",
              "    }\n",
              "\n",
              "    .dataframe thead th {\n",
              "        text-align: right;\n",
              "    }\n",
              "</style>\n",
              "<table border=\"1\" class=\"dataframe\">\n",
              "  <thead>\n",
              "    <tr style=\"text-align: right;\">\n",
              "      <th></th>\n",
              "      <th>0</th>\n",
              "      <th>1</th>\n",
              "      <th>2</th>\n",
              "    </tr>\n",
              "  </thead>\n",
              "  <tbody>\n",
              "    <tr>\n",
              "      <th>0</th>\n",
              "      <td>lstm_cv</td>\n",
              "      <td>0.000170</td>\n",
              "      <td>5744.500532</td>\n",
              "    </tr>\n",
              "    <tr>\n",
              "      <th>0</th>\n",
              "      <td>lstm_att_cv</td>\n",
              "      <td>0.000855</td>\n",
              "      <td>5744.500532</td>\n",
              "    </tr>\n",
              "    <tr>\n",
              "      <th>0</th>\n",
              "      <td>lstm_cv_rvi</td>\n",
              "      <td>0.000344</td>\n",
              "      <td>5744.500532</td>\n",
              "    </tr>\n",
              "    <tr>\n",
              "      <th>0</th>\n",
              "      <td>svm_cv</td>\n",
              "      <td>0.000277</td>\n",
              "      <td>5744.500532</td>\n",
              "    </tr>\n",
              "    <tr>\n",
              "      <th>0</th>\n",
              "      <td>lstm_xgb_cols</td>\n",
              "      <td>0.004775</td>\n",
              "      <td>3726.980987</td>\n",
              "    </tr>\n",
              "  </tbody>\n",
              "</table>\n",
              "</div>\n",
              "      <button class=\"colab-df-convert\" onclick=\"convertToInteractive('df-8457753d-3fc3-421a-b3dd-764568cecf6f')\"\n",
              "              title=\"Convert this dataframe to an interactive table.\"\n",
              "              style=\"display:none;\">\n",
              "        \n",
              "  <svg xmlns=\"http://www.w3.org/2000/svg\" height=\"24px\"viewBox=\"0 0 24 24\"\n",
              "       width=\"24px\">\n",
              "    <path d=\"M0 0h24v24H0V0z\" fill=\"none\"/>\n",
              "    <path d=\"M18.56 5.44l.94 2.06.94-2.06 2.06-.94-2.06-.94-.94-2.06-.94 2.06-2.06.94zm-11 1L8.5 8.5l.94-2.06 2.06-.94-2.06-.94L8.5 2.5l-.94 2.06-2.06.94zm10 10l.94 2.06.94-2.06 2.06-.94-2.06-.94-.94-2.06-.94 2.06-2.06.94z\"/><path d=\"M17.41 7.96l-1.37-1.37c-.4-.4-.92-.59-1.43-.59-.52 0-1.04.2-1.43.59L10.3 9.45l-7.72 7.72c-.78.78-.78 2.05 0 2.83L4 21.41c.39.39.9.59 1.41.59.51 0 1.02-.2 1.41-.59l7.78-7.78 2.81-2.81c.8-.78.8-2.07 0-2.86zM5.41 20L4 18.59l7.72-7.72 1.47 1.35L5.41 20z\"/>\n",
              "  </svg>\n",
              "      </button>\n",
              "      \n",
              "  <style>\n",
              "    .colab-df-container {\n",
              "      display:flex;\n",
              "      flex-wrap:wrap;\n",
              "      gap: 12px;\n",
              "    }\n",
              "\n",
              "    .colab-df-convert {\n",
              "      background-color: #E8F0FE;\n",
              "      border: none;\n",
              "      border-radius: 50%;\n",
              "      cursor: pointer;\n",
              "      display: none;\n",
              "      fill: #1967D2;\n",
              "      height: 32px;\n",
              "      padding: 0 0 0 0;\n",
              "      width: 32px;\n",
              "    }\n",
              "\n",
              "    .colab-df-convert:hover {\n",
              "      background-color: #E2EBFA;\n",
              "      box-shadow: 0px 1px 2px rgba(60, 64, 67, 0.3), 0px 1px 3px 1px rgba(60, 64, 67, 0.15);\n",
              "      fill: #174EA6;\n",
              "    }\n",
              "\n",
              "    [theme=dark] .colab-df-convert {\n",
              "      background-color: #3B4455;\n",
              "      fill: #D2E3FC;\n",
              "    }\n",
              "\n",
              "    [theme=dark] .colab-df-convert:hover {\n",
              "      background-color: #434B5C;\n",
              "      box-shadow: 0px 1px 3px 1px rgba(0, 0, 0, 0.15);\n",
              "      filter: drop-shadow(0px 1px 2px rgba(0, 0, 0, 0.3));\n",
              "      fill: #FFFFFF;\n",
              "    }\n",
              "  </style>\n",
              "\n",
              "      <script>\n",
              "        const buttonEl =\n",
              "          document.querySelector('#df-8457753d-3fc3-421a-b3dd-764568cecf6f button.colab-df-convert');\n",
              "        buttonEl.style.display =\n",
              "          google.colab.kernel.accessAllowed ? 'block' : 'none';\n",
              "\n",
              "        async function convertToInteractive(key) {\n",
              "          const element = document.querySelector('#df-8457753d-3fc3-421a-b3dd-764568cecf6f');\n",
              "          const dataTable =\n",
              "            await google.colab.kernel.invokeFunction('convertToInteractive',\n",
              "                                                     [key], {});\n",
              "          if (!dataTable) return;\n",
              "\n",
              "          const docLinkHtml = 'Like what you see? Visit the ' +\n",
              "            '<a target=\"_blank\" href=https://colab.research.google.com/notebooks/data_table.ipynb>data table notebook</a>'\n",
              "            + ' to learn more about interactive tables.';\n",
              "          element.innerHTML = '';\n",
              "          dataTable['output_type'] = 'display_data';\n",
              "          await google.colab.output.renderOutput(dataTable, element);\n",
              "          const docLink = document.createElement('div');\n",
              "          docLink.innerHTML = docLinkHtml;\n",
              "          element.appendChild(docLink);\n",
              "        }\n",
              "      </script>\n",
              "    </div>\n",
              "  </div>\n",
              "  "
            ]
          },
          "metadata": {},
          "execution_count": 87
        }
      ],
      "source": [
        "#data\n",
        "[scaled_features, X, y, normal_features] = convert_to_training_dataset(df_raw, columns=gbl_all_features)  \n",
        "\n",
        "df_chart = pd.DataFrame();\n",
        "normal_features.reset_index(inplace=True)\n",
        "df_chart[\"Date\"] = normal_features[\"Date\"]\n",
        "scaled_close = pluck(X, gbl_all_features, [\"Close\"])\n",
        "df_chart[\"Close\"] = scaled_close\n",
        "graph_columns = [\"Date\",\"Close\"]\n",
        "\n",
        "results = pd.DataFrame();\n",
        "\n",
        "stuff = models.items()\n",
        "\n",
        "#backtest_filter = model_config[\"backtest_filter\"]\n",
        "#backtest_filter = [\"lstm_cv\", \"lstm_cv_rvi\", \"lstm_att_cv\", \"svm_cv\", \"lstm_xgb_cols\"]\n",
        "backtest_filter = []\n",
        "for key, model in stuff:\n",
        "  \n",
        "  print(\"key:\", key)\n",
        "  if (len(backtest_filter)!=0 and not key in backtest_filter):\n",
        "    print(\"skipping:\", key)\n",
        "    continue\n",
        "\n",
        "  print(\"testing:\", key)\n",
        "  graph_columns.append(key)\n",
        "  \n",
        "  columns = model_config[\"column_sets\"][key]\n",
        "  \n",
        "  x = pluck(X, gbl_all_features, columns)\n",
        "\n",
        "  predicted = model.predict(x).flatten()\n",
        "\n",
        "  mse = mean_squared_error(scaled_close, predicted)\n",
        "  print(\"predicted mse for model: \", key, mse)\n",
        "  \n",
        "  [df_profit, profit] = build_profit_estimate(predicted, normal_features)\n",
        "  print(\"profit for model: \", key, profit)\n",
        "\n",
        "  results = results.append([[key, mse, profit]])\n",
        "\n",
        "  df_chart[key] = predicted\n",
        "\n",
        "interactive_plot(df_chart[graph_columns], \"wow\") \n",
        "results"
      ]
    },
    {
      "cell_type": "code",
      "source": [
        "df_profit"
      ],
      "metadata": {
        "colab": {
          "base_uri": "https://localhost:8080/",
          "height": 424
        },
        "id": "0owKG3b5lqHi",
        "outputId": "f8fe893e-c742-4fa7-f796-04947b2b9ce1"
      },
      "execution_count": 14,
      "outputs": [
        {
          "output_type": "execute_result",
          "data": {
            "text/plain": [
              "          Date  Predicted  Predicted-Target  Predicted-Diff  Should-Trade  \\\n",
              "0   2022-09-18   0.149880          0.157932        0.008052          True   \n",
              "1   2022-09-19   0.157932          0.152560       -0.005371         False   \n",
              "2   2022-09-20   0.152560          0.157174        0.004613          True   \n",
              "3   2022-09-21   0.157174          0.153480       -0.003694         False   \n",
              "4   2022-09-22   0.153480          0.131911       -0.021569         False   \n",
              "..         ...        ...               ...             ...           ...   \n",
              "115 2023-01-11   0.138162          0.141692        0.003530          True   \n",
              "116 2023-01-12   0.141692          0.145500        0.003808          True   \n",
              "117 2023-01-13   0.145500          0.159219        0.013719          True   \n",
              "118 2023-01-14   0.159219          0.148826       -0.010393         False   \n",
              "119 2023-01-15   0.148826               NaN             NaN         False   \n",
              "\n",
              "     RealDiff   Percent      Profit  \n",
              "0    0.000054  0.051185  255.924171  \n",
              "1   -0.000009 -0.008115    0.000000  \n",
              "2   -0.000071 -0.064545 -322.727273  \n",
              "3    0.000143  0.138970    0.000000  \n",
              "4    0.000207  0.176621    0.000000  \n",
              "..        ...       ...         ...  \n",
              "115  0.000034  0.064762  323.809524  \n",
              "116  0.000077  0.137746  688.729875  \n",
              "117  0.000071  0.111635  558.176101  \n",
              "118 -0.000032 -0.045262    0.000000  \n",
              "119 -0.000028 -0.041481    0.000000  \n",
              "\n",
              "[120 rows x 8 columns]"
            ],
            "text/html": [
              "\n",
              "  <div id=\"df-497872a2-0f49-4f12-bdff-2d6c5d2b62b9\">\n",
              "    <div class=\"colab-df-container\">\n",
              "      <div>\n",
              "<style scoped>\n",
              "    .dataframe tbody tr th:only-of-type {\n",
              "        vertical-align: middle;\n",
              "    }\n",
              "\n",
              "    .dataframe tbody tr th {\n",
              "        vertical-align: top;\n",
              "    }\n",
              "\n",
              "    .dataframe thead th {\n",
              "        text-align: right;\n",
              "    }\n",
              "</style>\n",
              "<table border=\"1\" class=\"dataframe\">\n",
              "  <thead>\n",
              "    <tr style=\"text-align: right;\">\n",
              "      <th></th>\n",
              "      <th>Date</th>\n",
              "      <th>Predicted</th>\n",
              "      <th>Predicted-Target</th>\n",
              "      <th>Predicted-Diff</th>\n",
              "      <th>Should-Trade</th>\n",
              "      <th>RealDiff</th>\n",
              "      <th>Percent</th>\n",
              "      <th>Profit</th>\n",
              "    </tr>\n",
              "  </thead>\n",
              "  <tbody>\n",
              "    <tr>\n",
              "      <th>0</th>\n",
              "      <td>2022-09-18</td>\n",
              "      <td>0.149880</td>\n",
              "      <td>0.157932</td>\n",
              "      <td>0.008052</td>\n",
              "      <td>True</td>\n",
              "      <td>0.000054</td>\n",
              "      <td>0.051185</td>\n",
              "      <td>255.924171</td>\n",
              "    </tr>\n",
              "    <tr>\n",
              "      <th>1</th>\n",
              "      <td>2022-09-19</td>\n",
              "      <td>0.157932</td>\n",
              "      <td>0.152560</td>\n",
              "      <td>-0.005371</td>\n",
              "      <td>False</td>\n",
              "      <td>-0.000009</td>\n",
              "      <td>-0.008115</td>\n",
              "      <td>0.000000</td>\n",
              "    </tr>\n",
              "    <tr>\n",
              "      <th>2</th>\n",
              "      <td>2022-09-20</td>\n",
              "      <td>0.152560</td>\n",
              "      <td>0.157174</td>\n",
              "      <td>0.004613</td>\n",
              "      <td>True</td>\n",
              "      <td>-0.000071</td>\n",
              "      <td>-0.064545</td>\n",
              "      <td>-322.727273</td>\n",
              "    </tr>\n",
              "    <tr>\n",
              "      <th>3</th>\n",
              "      <td>2022-09-21</td>\n",
              "      <td>0.157174</td>\n",
              "      <td>0.153480</td>\n",
              "      <td>-0.003694</td>\n",
              "      <td>False</td>\n",
              "      <td>0.000143</td>\n",
              "      <td>0.138970</td>\n",
              "      <td>0.000000</td>\n",
              "    </tr>\n",
              "    <tr>\n",
              "      <th>4</th>\n",
              "      <td>2022-09-22</td>\n",
              "      <td>0.153480</td>\n",
              "      <td>0.131911</td>\n",
              "      <td>-0.021569</td>\n",
              "      <td>False</td>\n",
              "      <td>0.000207</td>\n",
              "      <td>0.176621</td>\n",
              "      <td>0.000000</td>\n",
              "    </tr>\n",
              "    <tr>\n",
              "      <th>...</th>\n",
              "      <td>...</td>\n",
              "      <td>...</td>\n",
              "      <td>...</td>\n",
              "      <td>...</td>\n",
              "      <td>...</td>\n",
              "      <td>...</td>\n",
              "      <td>...</td>\n",
              "      <td>...</td>\n",
              "    </tr>\n",
              "    <tr>\n",
              "      <th>115</th>\n",
              "      <td>2023-01-11</td>\n",
              "      <td>0.138162</td>\n",
              "      <td>0.141692</td>\n",
              "      <td>0.003530</td>\n",
              "      <td>True</td>\n",
              "      <td>0.000034</td>\n",
              "      <td>0.064762</td>\n",
              "      <td>323.809524</td>\n",
              "    </tr>\n",
              "    <tr>\n",
              "      <th>116</th>\n",
              "      <td>2023-01-12</td>\n",
              "      <td>0.141692</td>\n",
              "      <td>0.145500</td>\n",
              "      <td>0.003808</td>\n",
              "      <td>True</td>\n",
              "      <td>0.000077</td>\n",
              "      <td>0.137746</td>\n",
              "      <td>688.729875</td>\n",
              "    </tr>\n",
              "    <tr>\n",
              "      <th>117</th>\n",
              "      <td>2023-01-13</td>\n",
              "      <td>0.145500</td>\n",
              "      <td>0.159219</td>\n",
              "      <td>0.013719</td>\n",
              "      <td>True</td>\n",
              "      <td>0.000071</td>\n",
              "      <td>0.111635</td>\n",
              "      <td>558.176101</td>\n",
              "    </tr>\n",
              "    <tr>\n",
              "      <th>118</th>\n",
              "      <td>2023-01-14</td>\n",
              "      <td>0.159219</td>\n",
              "      <td>0.148826</td>\n",
              "      <td>-0.010393</td>\n",
              "      <td>False</td>\n",
              "      <td>-0.000032</td>\n",
              "      <td>-0.045262</td>\n",
              "      <td>0.000000</td>\n",
              "    </tr>\n",
              "    <tr>\n",
              "      <th>119</th>\n",
              "      <td>2023-01-15</td>\n",
              "      <td>0.148826</td>\n",
              "      <td>NaN</td>\n",
              "      <td>NaN</td>\n",
              "      <td>False</td>\n",
              "      <td>-0.000028</td>\n",
              "      <td>-0.041481</td>\n",
              "      <td>0.000000</td>\n",
              "    </tr>\n",
              "  </tbody>\n",
              "</table>\n",
              "<p>120 rows × 8 columns</p>\n",
              "</div>\n",
              "      <button class=\"colab-df-convert\" onclick=\"convertToInteractive('df-497872a2-0f49-4f12-bdff-2d6c5d2b62b9')\"\n",
              "              title=\"Convert this dataframe to an interactive table.\"\n",
              "              style=\"display:none;\">\n",
              "        \n",
              "  <svg xmlns=\"http://www.w3.org/2000/svg\" height=\"24px\"viewBox=\"0 0 24 24\"\n",
              "       width=\"24px\">\n",
              "    <path d=\"M0 0h24v24H0V0z\" fill=\"none\"/>\n",
              "    <path d=\"M18.56 5.44l.94 2.06.94-2.06 2.06-.94-2.06-.94-.94-2.06-.94 2.06-2.06.94zm-11 1L8.5 8.5l.94-2.06 2.06-.94-2.06-.94L8.5 2.5l-.94 2.06-2.06.94zm10 10l.94 2.06.94-2.06 2.06-.94-2.06-.94-.94-2.06-.94 2.06-2.06.94z\"/><path d=\"M17.41 7.96l-1.37-1.37c-.4-.4-.92-.59-1.43-.59-.52 0-1.04.2-1.43.59L10.3 9.45l-7.72 7.72c-.78.78-.78 2.05 0 2.83L4 21.41c.39.39.9.59 1.41.59.51 0 1.02-.2 1.41-.59l7.78-7.78 2.81-2.81c.8-.78.8-2.07 0-2.86zM5.41 20L4 18.59l7.72-7.72 1.47 1.35L5.41 20z\"/>\n",
              "  </svg>\n",
              "      </button>\n",
              "      \n",
              "  <style>\n",
              "    .colab-df-container {\n",
              "      display:flex;\n",
              "      flex-wrap:wrap;\n",
              "      gap: 12px;\n",
              "    }\n",
              "\n",
              "    .colab-df-convert {\n",
              "      background-color: #E8F0FE;\n",
              "      border: none;\n",
              "      border-radius: 50%;\n",
              "      cursor: pointer;\n",
              "      display: none;\n",
              "      fill: #1967D2;\n",
              "      height: 32px;\n",
              "      padding: 0 0 0 0;\n",
              "      width: 32px;\n",
              "    }\n",
              "\n",
              "    .colab-df-convert:hover {\n",
              "      background-color: #E2EBFA;\n",
              "      box-shadow: 0px 1px 2px rgba(60, 64, 67, 0.3), 0px 1px 3px 1px rgba(60, 64, 67, 0.15);\n",
              "      fill: #174EA6;\n",
              "    }\n",
              "\n",
              "    [theme=dark] .colab-df-convert {\n",
              "      background-color: #3B4455;\n",
              "      fill: #D2E3FC;\n",
              "    }\n",
              "\n",
              "    [theme=dark] .colab-df-convert:hover {\n",
              "      background-color: #434B5C;\n",
              "      box-shadow: 0px 1px 3px 1px rgba(0, 0, 0, 0.15);\n",
              "      filter: drop-shadow(0px 1px 2px rgba(0, 0, 0, 0.3));\n",
              "      fill: #FFFFFF;\n",
              "    }\n",
              "  </style>\n",
              "\n",
              "      <script>\n",
              "        const buttonEl =\n",
              "          document.querySelector('#df-497872a2-0f49-4f12-bdff-2d6c5d2b62b9 button.colab-df-convert');\n",
              "        buttonEl.style.display =\n",
              "          google.colab.kernel.accessAllowed ? 'block' : 'none';\n",
              "\n",
              "        async function convertToInteractive(key) {\n",
              "          const element = document.querySelector('#df-497872a2-0f49-4f12-bdff-2d6c5d2b62b9');\n",
              "          const dataTable =\n",
              "            await google.colab.kernel.invokeFunction('convertToInteractive',\n",
              "                                                     [key], {});\n",
              "          if (!dataTable) return;\n",
              "\n",
              "          const docLinkHtml = 'Like what you see? Visit the ' +\n",
              "            '<a target=\"_blank\" href=https://colab.research.google.com/notebooks/data_table.ipynb>data table notebook</a>'\n",
              "            + ' to learn more about interactive tables.';\n",
              "          element.innerHTML = '';\n",
              "          dataTable['output_type'] = 'display_data';\n",
              "          await google.colab.output.renderOutput(dataTable, element);\n",
              "          const docLink = document.createElement('div');\n",
              "          docLink.innerHTML = docLinkHtml;\n",
              "          element.appendChild(docLink);\n",
              "        }\n",
              "      </script>\n",
              "    </div>\n",
              "  </div>\n",
              "  "
            ]
          },
          "metadata": {},
          "execution_count": 14
        }
      ]
    },
    {
      "cell_type": "markdown",
      "metadata": {
        "id": "LvMTta84dZfO"
      },
      "source": [
        "# What has a buy indicator for tomorrow?"
      ]
    },
    {
      "cell_type": "code",
      "execution_count": 88,
      "metadata": {
        "id": "N887KFLZdios",
        "colab": {
          "base_uri": "https://localhost:8080/",
          "height": 1000
        },
        "outputId": "d66a191b-4ba2-4788-e81d-3bb4e1a3acaf"
      },
      "outputs": [
        {
          "output_type": "stream",
          "name": "stdout",
          "text": [
            "iterating through: 121\n",
            "start day long\n",
            "download day bars:  1EARTH-USDT  bar set: 180\n",
            "predicting trade: lstm_cv for 1EARTH-USDT\n",
            "6/6 [==============================] - 0s 12ms/step\n",
            "predicting trade: lstm_att_cv for 1EARTH-USDT\n",
            "6/6 [==============================] - 0s 12ms/step\n",
            "predicting trade: lstm_cv_rvi for 1EARTH-USDT\n",
            "6/6 [==============================] - 0s 16ms/step\n",
            "predicting trade: svm_cv for 1EARTH-USDT\n",
            "6/6 [==============================] - 0s 9ms/step\n",
            "start day short\n",
            "download day bars:  1EARTH-USDT  bar set: 30\n",
            "predicting trade: lstm_cv for 1EARTH-USDT\n",
            "1/1 [==============================] - 0s 25ms/step\n",
            "predicting trade: lstm_att_cv for 1EARTH-USDT\n",
            "1/1 [==============================] - 0s 24ms/step\n",
            "predicting trade: lstm_cv_rvi for 1EARTH-USDT\n",
            "1/1 [==============================] - 0s 31ms/step\n",
            "predicting trade: svm_cv for 1EARTH-USDT\n",
            "1/1 [==============================] - 0s 30ms/step\n",
            "start 15m\n",
            "download 15 bars:  1EARTH-USDT\n",
            "1/1 [==============================] - 1s 1s/step\n",
            "start day long\n",
            "download day bars:  AAVE-USDT  bar set: 180\n",
            "predicting trade: lstm_cv for AAVE-USDT\n",
            "6/6 [==============================] - 0s 9ms/step\n",
            "predicting trade: lstm_att_cv for AAVE-USDT\n",
            "6/6 [==============================] - 0s 9ms/step\n",
            "predicting trade: lstm_cv_rvi for AAVE-USDT\n",
            "6/6 [==============================] - 0s 13ms/step\n",
            "predicting trade: svm_cv for AAVE-USDT\n",
            "6/6 [==============================] - 0s 12ms/step\n",
            "start day short\n",
            "download day bars:  AAVE-USDT  bar set: 30\n",
            "predicting trade: lstm_cv for AAVE-USDT\n",
            "1/1 [==============================] - 0s 31ms/step\n",
            "predicting trade: lstm_att_cv for AAVE-USDT\n",
            "1/1 [==============================] - 0s 24ms/step\n",
            "predicting trade: lstm_cv_rvi for AAVE-USDT\n",
            "1/1 [==============================] - 0s 28ms/step\n",
            "predicting trade: svm_cv for AAVE-USDT\n",
            "1/1 [==============================] - 0s 23ms/step\n",
            "start 15m\n",
            "download 15 bars:  AAVE-USDT\n",
            "1/1 [==============================] - 0s 21ms/step\n",
            "start day long\n",
            "download day bars:  ACE-USDT  bar set: 180\n",
            "predicting trade: lstm_cv for ACE-USDT\n",
            "6/6 [==============================] - 0s 10ms/step\n",
            "predicting trade: lstm_att_cv for ACE-USDT\n",
            "6/6 [==============================] - 0s 9ms/step\n",
            "predicting trade: lstm_cv_rvi for ACE-USDT\n",
            "6/6 [==============================] - 0s 11ms/step\n",
            "predicting trade: svm_cv for ACE-USDT\n",
            "6/6 [==============================] - 0s 13ms/step\n",
            "start day short\n",
            "download day bars:  ACE-USDT  bar set: 30\n",
            "predicting trade: lstm_cv for ACE-USDT\n",
            "1/1 [==============================] - 0s 30ms/step\n",
            "predicting trade: lstm_att_cv for ACE-USDT\n",
            "1/1 [==============================] - 0s 22ms/step\n",
            "predicting trade: lstm_cv_rvi for ACE-USDT\n",
            "1/1 [==============================] - 0s 26ms/step\n",
            "predicting trade: svm_cv for ACE-USDT\n",
            "1/1 [==============================] - 0s 23ms/step\n",
            "start 15m\n",
            "download 15 bars:  ACE-USDT\n",
            "1/1 [==============================] - 0s 23ms/step\n",
            "start day long\n",
            "download day bars:  ACH-USDT  bar set: 180\n",
            "predicting trade: lstm_cv for ACH-USDT\n",
            "6/6 [==============================] - 0s 8ms/step\n",
            "predicting trade: lstm_att_cv for ACH-USDT\n",
            "6/6 [==============================] - 0s 9ms/step\n",
            "predicting trade: lstm_cv_rvi for ACH-USDT\n",
            "6/6 [==============================] - 0s 11ms/step\n",
            "predicting trade: svm_cv for ACH-USDT\n",
            "6/6 [==============================] - 0s 9ms/step\n",
            "start day short\n",
            "download day bars:  ACH-USDT  bar set: 30\n",
            "predicting trade: lstm_cv for ACH-USDT\n",
            "1/1 [==============================] - 0s 26ms/step\n",
            "predicting trade: lstm_att_cv for ACH-USDT\n",
            "1/1 [==============================] - 0s 25ms/step\n",
            "predicting trade: lstm_cv_rvi for ACH-USDT\n",
            "1/1 [==============================] - 0s 25ms/step\n",
            "predicting trade: svm_cv for ACH-USDT\n",
            "1/1 [==============================] - 0s 26ms/step\n",
            "start 15m\n",
            "download 15 bars:  ACH-USDT\n",
            "1/1 [==============================] - 0s 20ms/step\n",
            "start day long\n",
            "download day bars:  ADA-USDT  bar set: 180\n",
            "predicting trade: lstm_cv for ADA-USDT\n",
            "6/6 [==============================] - 0s 12ms/step\n",
            "predicting trade: lstm_att_cv for ADA-USDT\n",
            "6/6 [==============================] - 0s 9ms/step\n",
            "predicting trade: lstm_cv_rvi for ADA-USDT\n",
            "6/6 [==============================] - 0s 11ms/step\n",
            "predicting trade: svm_cv for ADA-USDT\n",
            "6/6 [==============================] - 0s 11ms/step\n",
            "start day short\n",
            "download day bars:  ADA-USDT  bar set: 30\n",
            "predicting trade: lstm_cv for ADA-USDT\n",
            "1/1 [==============================] - 0s 24ms/step\n",
            "predicting trade: lstm_att_cv for ADA-USDT\n",
            "1/1 [==============================] - 0s 23ms/step\n",
            "predicting trade: lstm_cv_rvi for ADA-USDT\n",
            "1/1 [==============================] - 0s 25ms/step\n",
            "predicting trade: svm_cv for ADA-USDT\n",
            "1/1 [==============================] - 0s 24ms/step\n",
            "start 15m\n",
            "download 15 bars:  ADA-USDT\n",
            "1/1 [==============================] - 0s 20ms/step\n",
            "start day long\n",
            "download day bars:  AGIX-USDT  bar set: 180\n",
            "predicting trade: lstm_cv for AGIX-USDT\n",
            "6/6 [==============================] - 0s 12ms/step\n",
            "predicting trade: lstm_att_cv for AGIX-USDT\n",
            "6/6 [==============================] - 0s 9ms/step\n",
            "predicting trade: lstm_cv_rvi for AGIX-USDT\n",
            "6/6 [==============================] - 0s 11ms/step\n",
            "predicting trade: svm_cv for AGIX-USDT\n",
            "6/6 [==============================] - 0s 10ms/step\n",
            "start day short\n",
            "download day bars:  AGIX-USDT  bar set: 30\n",
            "predicting trade: lstm_cv for AGIX-USDT\n",
            "1/1 [==============================] - 0s 24ms/step\n",
            "predicting trade: lstm_att_cv for AGIX-USDT\n",
            "1/1 [==============================] - 0s 23ms/step\n",
            "predicting trade: lstm_cv_rvi for AGIX-USDT\n",
            "1/1 [==============================] - 0s 26ms/step\n",
            "predicting trade: svm_cv for AGIX-USDT\n",
            "1/1 [==============================] - 0s 30ms/step\n",
            "start 15m\n",
            "download 15 bars:  AGIX-USDT\n",
            "1/1 [==============================] - 0s 21ms/step\n",
            "start day long\n",
            "download day bars:  ALBT-USDT  bar set: 180\n",
            "predicting trade: lstm_cv for ALBT-USDT\n",
            "6/6 [==============================] - 0s 10ms/step\n",
            "predicting trade: lstm_att_cv for ALBT-USDT\n",
            "6/6 [==============================] - 0s 10ms/step\n",
            "predicting trade: lstm_cv_rvi for ALBT-USDT\n",
            "6/6 [==============================] - 0s 13ms/step\n",
            "predicting trade: svm_cv for ALBT-USDT\n",
            "6/6 [==============================] - 0s 12ms/step\n",
            "start day short\n",
            "download day bars:  ALBT-USDT  bar set: 30\n",
            "predicting trade: lstm_cv for ALBT-USDT\n",
            "1/1 [==============================] - 0s 30ms/step\n",
            "predicting trade: lstm_att_cv for ALBT-USDT\n",
            "1/1 [==============================] - 0s 30ms/step\n",
            "predicting trade: lstm_cv_rvi for ALBT-USDT\n",
            "1/1 [==============================] - 0s 30ms/step\n",
            "predicting trade: svm_cv for ALBT-USDT\n",
            "1/1 [==============================] - 0s 24ms/step\n",
            "start 15m\n",
            "download 15 bars:  ALBT-USDT\n",
            "1/1 [==============================] - 0s 22ms/step\n",
            "start day long\n",
            "download day bars:  ALGO-USDT  bar set: 180\n",
            "predicting trade: lstm_cv for ALGO-USDT\n",
            "6/6 [==============================] - 0s 9ms/step\n",
            "predicting trade: lstm_att_cv for ALGO-USDT\n",
            "6/6 [==============================] - 0s 10ms/step\n",
            "predicting trade: lstm_cv_rvi for ALGO-USDT\n",
            "6/6 [==============================] - 0s 11ms/step\n",
            "predicting trade: svm_cv for ALGO-USDT\n",
            "6/6 [==============================] - 0s 11ms/step\n",
            "start day short\n",
            "download day bars:  ALGO-USDT  bar set: 30\n",
            "predicting trade: lstm_cv for ALGO-USDT\n",
            "1/1 [==============================] - 0s 23ms/step\n",
            "predicting trade: lstm_att_cv for ALGO-USDT\n",
            "1/1 [==============================] - 0s 27ms/step\n",
            "predicting trade: lstm_cv_rvi for ALGO-USDT\n",
            "1/1 [==============================] - 0s 25ms/step\n",
            "predicting trade: svm_cv for ALGO-USDT\n",
            "1/1 [==============================] - 0s 27ms/step\n",
            "start 15m\n",
            "download 15 bars:  ALGO-USDT\n",
            "1/1 [==============================] - 0s 22ms/step\n",
            "start day long\n",
            "download day bars:  ANC-USDT  bar set: 180\n",
            "predicting trade: lstm_cv for ANC-USDT\n",
            "6/6 [==============================] - 0s 9ms/step\n",
            "predicting trade: lstm_att_cv for ANC-USDT\n",
            "6/6 [==============================] - 0s 10ms/step\n",
            "predicting trade: lstm_cv_rvi for ANC-USDT\n",
            "6/6 [==============================] - 0s 14ms/step\n",
            "predicting trade: svm_cv for ANC-USDT\n",
            "6/6 [==============================] - 0s 8ms/step\n",
            "start day short\n",
            "download day bars:  ANC-USDT  bar set: 30\n",
            "predicting trade: lstm_cv for ANC-USDT\n",
            "1/1 [==============================] - 0s 28ms/step\n",
            "predicting trade: lstm_att_cv for ANC-USDT\n",
            "1/1 [==============================] - 0s 24ms/step\n",
            "predicting trade: lstm_cv_rvi for ANC-USDT\n",
            "1/1 [==============================] - 0s 36ms/step\n",
            "predicting trade: svm_cv for ANC-USDT\n",
            "1/1 [==============================] - 0s 32ms/step\n",
            "start 15m\n",
            "download 15 bars:  ANC-USDT\n",
            "1/1 [==============================] - 0s 22ms/step\n",
            "start day long\n",
            "download day bars:  APE-USDT  bar set: 180\n",
            "predicting trade: lstm_cv for APE-USDT\n",
            "6/6 [==============================] - 0s 10ms/step\n",
            "predicting trade: lstm_att_cv for APE-USDT\n",
            "6/6 [==============================] - 0s 9ms/step\n",
            "predicting trade: lstm_cv_rvi for APE-USDT\n",
            "6/6 [==============================] - 0s 11ms/step\n",
            "predicting trade: svm_cv for APE-USDT\n",
            "6/6 [==============================] - 0s 9ms/step\n",
            "start day short\n",
            "download day bars:  APE-USDT  bar set: 30\n",
            "predicting trade: lstm_cv for APE-USDT\n",
            "1/1 [==============================] - 0s 30ms/step\n",
            "predicting trade: lstm_att_cv for APE-USDT\n",
            "1/1 [==============================] - 0s 24ms/step\n",
            "predicting trade: lstm_cv_rvi for APE-USDT\n",
            "1/1 [==============================] - 0s 37ms/step\n",
            "predicting trade: svm_cv for APE-USDT\n",
            "1/1 [==============================] - 0s 25ms/step\n",
            "start 15m\n",
            "download 15 bars:  APE-USDT\n",
            "1/1 [==============================] - 0s 25ms/step\n",
            "start day long\n",
            "download day bars:  APT-USDT  bar set: 180\n"
          ]
        },
        {
          "output_type": "error",
          "ename": "Exception",
          "evalue": "ignored",
          "traceback": [
            "\u001b[0;31m---------------------------------------------------------------------------\u001b[0m",
            "\u001b[0;31mException\u001b[0m                                 Traceback (most recent call last)",
            "\u001b[0;32m<ipython-input-88-26096fbaff19>\u001b[0m in \u001b[0;36m<module>\u001b[0;34m\u001b[0m\n\u001b[1;32m     70\u001b[0m         \u001b[0mloop\u001b[0m \u001b[0;34m=\u001b[0m \u001b[0;32mFalse\u001b[0m\u001b[0;34m\u001b[0m\u001b[0;34m\u001b[0m\u001b[0m\n\u001b[1;32m     71\u001b[0m       \u001b[0;32mexcept\u001b[0m \u001b[0mException\u001b[0m \u001b[0;32mas\u001b[0m \u001b[0minst\u001b[0m\u001b[0;34m:\u001b[0m\u001b[0;34m\u001b[0m\u001b[0;34m\u001b[0m\u001b[0m\n\u001b[0;32m---> 72\u001b[0;31m         \u001b[0;32mraise\u001b[0m \u001b[0minst\u001b[0m\u001b[0;34m\u001b[0m\u001b[0;34m\u001b[0m\u001b[0m\n\u001b[0m\u001b[1;32m     73\u001b[0m         \u001b[0mprint\u001b[0m\u001b[0;34m(\u001b[0m\u001b[0;34m\"Error: \"\u001b[0m\u001b[0;34m,\u001b[0m \u001b[0minst\u001b[0m\u001b[0;34m)\u001b[0m\u001b[0;34m\u001b[0m\u001b[0;34m\u001b[0m\u001b[0m\n\u001b[1;32m     74\u001b[0m         \u001b[0mtime\u001b[0m\u001b[0;34m.\u001b[0m\u001b[0msleep\u001b[0m\u001b[0;34m(\u001b[0m\u001b[0;36m1\u001b[0m\u001b[0;34m)\u001b[0m\u001b[0;34m\u001b[0m\u001b[0;34m\u001b[0m\u001b[0m\n",
            "\u001b[0;32m<ipython-input-88-26096fbaff19>\u001b[0m in \u001b[0;36m<module>\u001b[0;34m\u001b[0m\n\u001b[1;32m     58\u001b[0m       \u001b[0;32mtry\u001b[0m\u001b[0;34m:\u001b[0m\u001b[0;34m\u001b[0m\u001b[0;34m\u001b[0m\u001b[0m\n\u001b[1;32m     59\u001b[0m         \u001b[0mprint\u001b[0m\u001b[0;34m(\u001b[0m\u001b[0;34m\"start day long\"\u001b[0m\u001b[0;34m)\u001b[0m\u001b[0;34m\u001b[0m\u001b[0;34m\u001b[0m\u001b[0m\n\u001b[0;32m---> 60\u001b[0;31m         \u001b[0mdf_trades\u001b[0m \u001b[0;34m=\u001b[0m \u001b[0mdownloadAndPredict\u001b[0m\u001b[0;34m(\u001b[0m\u001b[0mdf_trades\u001b[0m\u001b[0;34m,\u001b[0m \u001b[0mrow\u001b[0m\u001b[0;34m.\u001b[0m\u001b[0mid\u001b[0m\u001b[0;34m,\u001b[0m \u001b[0mbars_long\u001b[0m\u001b[0;34m)\u001b[0m\u001b[0;34m\u001b[0m\u001b[0;34m\u001b[0m\u001b[0m\n\u001b[0m\u001b[1;32m     61\u001b[0m         \u001b[0mtime\u001b[0m\u001b[0;34m.\u001b[0m\u001b[0msleep\u001b[0m\u001b[0;34m(\u001b[0m\u001b[0;36m1\u001b[0m\u001b[0;34m)\u001b[0m\u001b[0;34m\u001b[0m\u001b[0;34m\u001b[0m\u001b[0m\n\u001b[1;32m     62\u001b[0m \u001b[0;34m\u001b[0m\u001b[0m\n",
            "\u001b[0;32m<ipython-input-88-26096fbaff19>\u001b[0m in \u001b[0;36mdownloadAndPredict\u001b[0;34m(all_trades, product, length)\u001b[0m\n\u001b[1;32m     35\u001b[0m \u001b[0;32mdef\u001b[0m \u001b[0mdownloadAndPredict\u001b[0m\u001b[0;34m(\u001b[0m\u001b[0mall_trades\u001b[0m\u001b[0;34m,\u001b[0m \u001b[0mproduct\u001b[0m\u001b[0;34m,\u001b[0m \u001b[0mlength\u001b[0m\u001b[0;34m)\u001b[0m\u001b[0;34m:\u001b[0m\u001b[0;34m\u001b[0m\u001b[0;34m\u001b[0m\u001b[0m\n\u001b[1;32m     36\u001b[0m   \u001b[0mprint\u001b[0m\u001b[0;34m(\u001b[0m\u001b[0;34m\"download day bars: \"\u001b[0m\u001b[0;34m,\u001b[0m \u001b[0mproduct\u001b[0m\u001b[0;34m,\u001b[0m \u001b[0;34m\" bar set:\"\u001b[0m\u001b[0;34m,\u001b[0m \u001b[0mlength\u001b[0m\u001b[0;34m)\u001b[0m\u001b[0;34m\u001b[0m\u001b[0;34m\u001b[0m\u001b[0m\n\u001b[0;32m---> 37\u001b[0;31m   \u001b[0mdf_raw\u001b[0m \u001b[0;34m=\u001b[0m \u001b[0mget_coin_data_frames\u001b[0m\u001b[0;34m(\u001b[0m\u001b[0mlength\u001b[0m\u001b[0;34m,\u001b[0m \u001b[0mproduct\u001b[0m\u001b[0;34m)\u001b[0m\u001b[0;34m\u001b[0m\u001b[0;34m\u001b[0m\u001b[0m\n\u001b[0m\u001b[1;32m     38\u001b[0m   \u001b[0;32mfor\u001b[0m \u001b[0mname\u001b[0m \u001b[0;32min\u001b[0m \u001b[0mmodels_in_play\u001b[0m\u001b[0;34m:\u001b[0m\u001b[0;34m\u001b[0m\u001b[0;34m\u001b[0m\u001b[0m\n\u001b[1;32m     39\u001b[0m     \u001b[0mprint\u001b[0m\u001b[0;34m(\u001b[0m\u001b[0;34m\"predicting trade:\"\u001b[0m\u001b[0;34m,\u001b[0m \u001b[0mname\u001b[0m\u001b[0;34m,\u001b[0m \u001b[0;34m\"for\"\u001b[0m\u001b[0;34m,\u001b[0m \u001b[0mproduct\u001b[0m\u001b[0;34m)\u001b[0m\u001b[0;34m\u001b[0m\u001b[0;34m\u001b[0m\u001b[0m\n",
            "\u001b[0;32m<ipython-input-84-d055ef153ed3>\u001b[0m in \u001b[0;36mget_coin_data_frames\u001b[0;34m(time, product, granularity, feature_set)\u001b[0m\n\u001b[1;32m    304\u001b[0m     \u001b[0mdf_raw\u001b[0m \u001b[0;34m=\u001b[0m \u001b[0mcoinbase_json_to_df\u001b[0m\u001b[0;34m(\u001b[0m\u001b[0mtime\u001b[0m\u001b[0;34m,\u001b[0m \u001b[0mproduct\u001b[0m\u001b[0;34m,\u001b[0m \u001b[0mgranularity\u001b[0m\u001b[0;34m)\u001b[0m\u001b[0;34m\u001b[0m\u001b[0;34m\u001b[0m\u001b[0m\n\u001b[1;32m    305\u001b[0m   \u001b[0;32melse\u001b[0m\u001b[0;34m:\u001b[0m\u001b[0;34m\u001b[0m\u001b[0;34m\u001b[0m\u001b[0m\n\u001b[0;32m--> 306\u001b[0;31m     \u001b[0mdf_raw\u001b[0m \u001b[0;34m=\u001b[0m \u001b[0mku_coin_json_to_df\u001b[0m\u001b[0;34m(\u001b[0m\u001b[0mtime\u001b[0m\u001b[0;34m,\u001b[0m \u001b[0mproduct\u001b[0m\u001b[0;34m,\u001b[0m \u001b[0mgranularity\u001b[0m\u001b[0;34m)\u001b[0m\u001b[0;34m\u001b[0m\u001b[0;34m\u001b[0m\u001b[0m\n\u001b[0m\u001b[1;32m    307\u001b[0m \u001b[0;34m\u001b[0m\u001b[0m\n\u001b[1;32m    308\u001b[0m   \u001b[0;32mif\u001b[0m \u001b[0mlen\u001b[0m\u001b[0;34m(\u001b[0m\u001b[0mdf_raw\u001b[0m\u001b[0;34m.\u001b[0m\u001b[0mindex\u001b[0m\u001b[0;34m)\u001b[0m \u001b[0;34m==\u001b[0m \u001b[0;36m0\u001b[0m\u001b[0;34m:\u001b[0m\u001b[0;34m\u001b[0m\u001b[0;34m\u001b[0m\u001b[0m\n",
            "\u001b[0;32m<ipython-input-84-d055ef153ed3>\u001b[0m in \u001b[0;36mku_coin_json_to_df\u001b[0;34m(delta, product, granularity)\u001b[0m\n\u001b[1;32m    280\u001b[0m   \u001b[0mgot_bars\u001b[0m \u001b[0;34m=\u001b[0m \u001b[0mlen\u001b[0m\u001b[0;34m(\u001b[0m\u001b[0mdf_history\u001b[0m\u001b[0;34m)\u001b[0m\u001b[0;34m\u001b[0m\u001b[0;34m\u001b[0m\u001b[0m\n\u001b[1;32m    281\u001b[0m   \u001b[0;32mif\u001b[0m \u001b[0;34m(\u001b[0m \u001b[0mgot_bars\u001b[0m \u001b[0;34m<\u001b[0m \u001b[0mdelta\u001b[0m\u001b[0;34m-\u001b[0m\u001b[0;36m1\u001b[0m\u001b[0;34m)\u001b[0m\u001b[0;34m:\u001b[0m\u001b[0;34m\u001b[0m\u001b[0;34m\u001b[0m\u001b[0m\n\u001b[0;32m--> 282\u001b[0;31m     \u001b[0;32mraise\u001b[0m \u001b[0mException\u001b[0m\u001b[0;34m(\u001b[0m\u001b[0;34m\"Requested:\"\u001b[0m \u001b[0;34m+\u001b[0m \u001b[0mstr\u001b[0m\u001b[0;34m(\u001b[0m\u001b[0mdelta\u001b[0m\u001b[0;34m)\u001b[0m \u001b[0;34m+\u001b[0m \u001b[0;34m\" bars \"\u001b[0m \u001b[0;34m+\u001b[0m \u001b[0;34m\" but only got:\"\u001b[0m \u001b[0;34m+\u001b[0m \u001b[0mstr\u001b[0m\u001b[0;34m(\u001b[0m\u001b[0mgot_bars\u001b[0m\u001b[0;34m)\u001b[0m\u001b[0;34m)\u001b[0m\u001b[0;34m\u001b[0m\u001b[0;34m\u001b[0m\u001b[0m\n\u001b[0m\u001b[1;32m    283\u001b[0m \u001b[0;34m\u001b[0m\u001b[0m\n\u001b[1;32m    284\u001b[0m   \u001b[0mdf_history\u001b[0m\u001b[0;34m.\u001b[0m\u001b[0mcolumns\u001b[0m \u001b[0;34m=\u001b[0m \u001b[0;34m[\u001b[0m\u001b[0;34m'time'\u001b[0m\u001b[0;34m,\u001b[0m\u001b[0;34m'open'\u001b[0m\u001b[0;34m,\u001b[0m\u001b[0;34m'close'\u001b[0m\u001b[0;34m,\u001b[0m\u001b[0;34m'high'\u001b[0m\u001b[0;34m,\u001b[0m\u001b[0;34m'low'\u001b[0m\u001b[0;34m,\u001b[0m\u001b[0;34m'volume'\u001b[0m\u001b[0;34m,\u001b[0m \u001b[0;34m'amount'\u001b[0m\u001b[0;34m]\u001b[0m\u001b[0;34m\u001b[0m\u001b[0;34m\u001b[0m\u001b[0m\n",
            "\u001b[0;31mException\u001b[0m: Requested:180 bars  but only got:90"
          ]
        }
      ],
      "source": [
        "# Fetch the top 10 and see if they predict up\n",
        "df_products = get_all_products()\n",
        "df_products = df_products[df_products.id.str.endswith('USDT')]\n",
        "\n",
        "# we have a desired budget of 10k in trading capital to deploy. \n",
        "# \"volValue\": is the 24h total, the trading volume in quote currency of last 24 hours\n",
        "# Any markets we enter need to have a signifcantly higher trading value volume otherwise\n",
        "# we can't really trade there without breaking things up. As we grow our strat here will need to change.\n",
        "# for now we cut down our set to 1m in volVal\n",
        "volumeCutoff = 500000\n",
        "df_products[\"volValue\"] = [float(x) for x in df_products['volValue']]\n",
        "df_products = df_products[df_products[\"volValue\"] > volumeCutoff]\n",
        "df_products = df_products.sort_values(by = ['id'])\n",
        "\n",
        "models_in_play = [\n",
        "        \"lstm_cv\", \n",
        "        \"lstm_att_cv\", \n",
        "        \"lstm_cv_rvi\",\n",
        "        \"svm_cv\"]\n",
        "if coin_base:\n",
        "  df_products = df_products[df_products.trading_disabled == False]\n",
        "  df_products = df_products[df_products.cancel_only == False]\n",
        "\n",
        "df_trades = pd.DataFrame();\n",
        "df_estc = pd.DataFrame(); #expected short term closes\n",
        "df_estc[\"Product\"] = [];\n",
        "df_estc[\"Est Close\"] = [];\n",
        "df_estc[\"Est Close Raw\"] = [];\n",
        "bars_long = 180\n",
        "bars_short = 30\n",
        "counter = 0;\n",
        "print(\"iterating through:\", len(df_products))\n",
        "tries = 3\n",
        "\n",
        "def downloadAndPredict(all_trades, product, length):\n",
        "  print(\"download day bars: \", product, \" bar set:\", length)\n",
        "  df_raw = get_coin_data_frames(length, product)\n",
        "  for name in models_in_play:\n",
        "    print(\"predicting trade:\", name, \"for\", product)\n",
        "    df_trade = predict_config_model_for_product(df_raw, name, product)\n",
        "    df_trade[\"Period\"] = [length]\n",
        "    all_trades = all_trades.append(df_trade)\n",
        "  return all_trades\n",
        "\n",
        "def downloadAndPredict15(all_trades, product):\n",
        "  print(\"download 15 bars: \", product)\n",
        "  [predicted_scaled, predicted] = fetch_and_predict_short_term(lstm_15m,product)\n",
        "  df2 = pd.DataFrame({'Product': [product], 'Est Close': [predicted], 'Est Close Raw': predicted_scaled})\n",
        "  all_trades = all_trades.append(df2)\n",
        "  return all_trades\n",
        "\n",
        "\n",
        "for index, row in df_products.iterrows():\n",
        "    \n",
        "    loop = True\n",
        "    count = 0\n",
        "    while(loop):\n",
        "      try:\n",
        "        print(\"start day long\")\n",
        "        df_trades = downloadAndPredict(df_trades, row.id, bars_long)\n",
        "        time.sleep(1)\n",
        "        \n",
        "        print(\"start day short\")\n",
        "        df_trades = downloadAndPredict(df_trades, row.id, bars_short)\n",
        "        time.sleep(1)\n",
        "\n",
        "        print(\"start 15m\")\n",
        "        df_estc = downloadAndPredict15(df_estc, row.id)\n",
        "        time.sleep(1)\n",
        "        loop = False\n",
        "      except Exception as inst:\n",
        "        raise inst\n",
        "        print(\"Error: \", inst)\n",
        "        time.sleep(1)\n",
        "        count = count+1\n",
        "        if count>tries:\n",
        "          loop = False\n",
        "\n",
        "df_trades.reset_index()\n",
        "df_trades_filtered = df_trades.loc[(df_trades[\"Period\"] == 180) & (df_trades[\"MSE\"] < 0.0005) | (df_trades[\"Period\"] == 30) & (df_trades[\"MSE\"] < 0.005)]\n",
        "df_buys = df_trades_filtered[df_trades_filtered['Move'] > 0] \n",
        "df_shorts = df_trades_filtered[df_trades_filtered['Move'] < 0] \n",
        "df_weighted = df_trades_filtered.groupby(\"Product\").apply(consensus_percent)\n",
        "df_weighted = df_weighted.rename(\"Consensus Percent\")\n",
        "df_trades_final = pd.merge(df_trades_filtered, df_weighted, left_on='Product', right_index=True)\n",
        "df_weighted = df_trades_filtered.groupby(\"Product\").apply(consensus_prediction)\n",
        "df_weighted = df_weighted.rename(\"Consensus Prediction\")\n",
        "df_trades_final = pd.merge(df_trades_final, df_weighted, left_on='Product', right_index=True)\n",
        "df_view = df_trades_final[[\"Product\",  \"Model Name\",  \"MSE\", \"Period\", \"Close\", \"Predicted\", \"Percent\",\"Consensus Percent\", \"Consensus Prediction\"]]\n",
        "df_view = df_trades_final.sort_values(by=[\"Consensus Percent\", \"MSE\"], ascending=[True, False])"
      ]
    },
    {
      "cell_type": "code",
      "execution_count": null,
      "metadata": {
        "id": "02Y2gwUiA0uj"
      },
      "outputs": [],
      "source": [
        "df_trades_filtered = df_trades.loc[(df_trades[\"Period\"] == 180) & (df_trades[\"MSE\"] < 0.0005) | (df_trades[\"Period\"] == 30) & (df_trades[\"MSE\"] < 0.002)]\n",
        "df_buys = df_trades_filtered[df_trades_filtered['Move'] > 0] \n",
        "df_shorts = df_trades_filtered[df_trades_filtered['Move'] < 0] \n",
        "\n",
        "df_weighted = df_trades_filtered.groupby(\"Product\").apply(consensus_percent)\n",
        "df_weighted = df_weighted.rename(\"Consensus Percent\")\n",
        "df_trades_final = pd.merge(df_trades_filtered, df_weighted, left_on='Product', right_index=True)\n",
        "\n",
        "df_weighted = df_trades_filtered.groupby(\"Product\").apply(consensus_prediction)\n",
        "df_weighted = df_weighted.rename(\"Consensus Prediction\")\n",
        "df_trades_final = pd.merge(df_trades_final, df_weighted, left_on='Product', right_index=True)\n",
        "\n",
        "df_weighted = df_trades_filtered.groupby(\"Product\").apply(consensus_overall)\n",
        "df_weighted = df_weighted.rename(\"Consensus Score\")\n",
        "df_trades_final = pd.merge(df_trades_final, df_weighted, left_on='Product', right_index=True)\n",
        "\n",
        "\n",
        "df_view = df_trades_final[[\"Product\",  \"Model Name\",  \"MSE\", \"Period\", \"Close\", \"Predicted\", \"Percent\",\"Consensus Percent\", \"Consensus Prediction\", \"Consensus Score\"]]\n",
        "df_view = df_view.sort_values(by=[\"Consensus Percent\", \"MSE\"], ascending=[False, True])\n",
        "\n",
        "df_view"
      ]
    },
    {
      "cell_type": "code",
      "execution_count": null,
      "metadata": {
        "id": "pWlMqJ3OQwse"
      },
      "outputs": [],
      "source": [
        "df_estc"
      ]
    },
    {
      "cell_type": "code",
      "source": [
        "df_trades[df_trades[\"Product\"] == \"XDB-USDT\"]"
      ],
      "metadata": {
        "id": "mpEaF5WDrP_k"
      },
      "execution_count": null,
      "outputs": []
    },
    {
      "cell_type": "code",
      "execution_count": null,
      "metadata": {
        "id": "Qa0sDODdFhLb"
      },
      "outputs": [],
      "source": [
        "now = datetime.now()\n",
        "today = now.strftime(\"%Y-%m-%d\")\n",
        "\n",
        "if coin_base:\n",
        "  token = \"cb\"\n",
        "else:\n",
        "  token = \"ku\"\n",
        "\n",
        "df_buys.to_csv(data_path+\"/buy-\" + token + \"-\" + today + \".csv\")\n",
        "df_estc.to_csv(data_path+\"/15m-\" + token + \"-\" + today + \".csv\")\n",
        "df_shorts.to_csv(data_path+\"/shorts-\" + token + \"-\" + today + \".csv\")\n",
        "df_trades_final.to_csv(data_path+\"/final-\" + token + \"-\" + today + \".csv\")"
      ]
    },
    {
      "cell_type": "code",
      "execution_count": null,
      "metadata": {
        "id": "SEhTt9im1lPu"
      },
      "outputs": [],
      "source": [
        "df_estc"
      ]
    }
  ],
  "metadata": {
    "colab": {
      "collapsed_sections": [
        "1H8K_tenSjC-",
        "dlOVO-Erbhlq",
        "Vg1itz6lUFpu",
        "uCNok5EX8ax_",
        "4TvKViYBGL2Z",
        "EXx4sqyHwFFO",
        "hDDL-Sj8v86C"
      ],
      "provenance": [],
      "include_colab_link": true
    },
    "kernelspec": {
      "display_name": "Python 3",
      "name": "python3"
    }
  },
  "nbformat": 4,
  "nbformat_minor": 0
}