{
 "cells": [
  {
   "cell_type": "code",
   "id": "initial_id",
   "metadata": {
    "collapsed": true,
    "ExecuteTime": {
     "end_time": "2024-09-13T22:41:16.430882Z",
     "start_time": "2024-09-13T22:41:16.290377Z"
    }
   },
   "source": [
    "import numpy as np\n",
    "import torch\n",
    "import torch.nn.functional as F\n",
    "import matplotlib.pyplot as plt\n",
    "from ipywidgets import interact, IntSlider, FloatSlider\n",
    "\n",
    "# Generate synthetic stock price data\n",
    "np.random.seed(42)\n",
    "days = 100\n",
    "prices = np.cumsum(np.random.randn(days)) + 100  # Simulate stock prices with random walk\n",
    "noise = np.random.normal(0, 25, days)  # Add noise to the data\n",
    "prices_noisy = prices + noise\n",
    "\n",
    "# Convert data to a tensor for Conv1d\n",
    "def smooth_prices(kernel_size, w1, w2, w3,stride):\n",
    "    prices_tensor = torch.tensor(prices_noisy, dtype=torch.float32).unsqueeze(0).unsqueeze(0)\n",
    "\n",
    "    # Define custom kernel based on weights for different thirds of the window\n",
    "    weights = np.concatenate([\n",
    "        np.ones(kernel_size // 3) * w1,  # First third\n",
    "        np.ones(kernel_size // 3) * w2,  # Middle third\n",
    "        np.ones(kernel_size // 3) * w3   # Last third\n",
    "    ])\n",
    "    weights = weights / np.sum(weights)  # Normalize the weights\n",
    "\n",
    "    # Apply Conv1d smoothing with the custom kernel\n",
    "    kernel = torch.tensor(weights, dtype=torch.float32).unsqueeze(0).unsqueeze(0)\n",
    "    smoothed_prices_tensor = F.conv1d(prices_tensor, kernel, padding=kernel_size // 2, stride=stride)\n",
    "\n",
    "    # Plot the results\n",
    "    smoothed_prices = smoothed_prices_tensor.squeeze().numpy()\n",
    "    plt.figure(figsize=(10, 6))\n",
    "    plt.plot(prices_noisy, label='Noisy Prices', color='red', alpha=0.5)\n",
    "    plt.plot(smoothed_prices, label=f'Smoothed Prices (kernel_size={kernel_size})', color='blue')\n",
    "    plt.title('Effect of Conv1d Smoothing on Time Series')\n",
    "    plt.xlabel('Days')\n",
    "    plt.ylabel('Price')\n",
    "    plt.legend()\n",
    "    plt.show()\n",
    "\n",
    "# Interactive sliders to adjust kernel size and weights for the thirds\n",
    "interact(\n",
    "    smooth_prices,\n",
    "    kernel_size=IntSlider(min=3, max=30, step=1, value=15),\n",
    "    w1=FloatSlider(min=0.1, max=1.0, step=0.1, value=0.1, description='Weight 1st Third'),\n",
    "    w2=FloatSlider(min=0.1, max=1.0, step=0.1, value=0.2, description='Weight 2nd Third'),\n",
    "    w3=FloatSlider(min=0.1, max=1.0, step=0.1, value=0.7, description='Weight 3rd Third'),\n",
    "    stride=IntSlider(min=1, max=15, step=1, value=1, description='stride')\n",
    ")"
   ],
   "outputs": [
    {
     "data": {
      "text/plain": [
       "interactive(children=(IntSlider(value=15, description='kernel_size', max=30, min=3), FloatSlider(value=0.1, de…"
      ],
      "application/vnd.jupyter.widget-view+json": {
       "version_major": 2,
       "version_minor": 0,
       "model_id": "0f73291eecb346db809fc500fb3671db"
      }
     },
     "metadata": {},
     "output_type": "display_data"
    },
    {
     "data": {
      "text/plain": [
       "<function __main__.smooth_prices(kernel_size, w1, w2, w3, stride)>"
      ]
     },
     "execution_count": 11,
     "metadata": {},
     "output_type": "execute_result"
    }
   ],
   "execution_count": 11
  },
  {
   "metadata": {},
   "cell_type": "code",
   "outputs": [],
   "execution_count": null,
   "source": "",
   "id": "87358e9c9f3a7df5"
  }
 ],
 "metadata": {
  "kernelspec": {
   "display_name": "Python 3",
   "language": "python",
   "name": "python3"
  },
  "language_info": {
   "codemirror_mode": {
    "name": "ipython",
    "version": 2
   },
   "file_extension": ".py",
   "mimetype": "text/x-python",
   "name": "python",
   "nbconvert_exporter": "python",
   "pygments_lexer": "ipython2",
   "version": "2.7.6"
  }
 },
 "nbformat": 4,
 "nbformat_minor": 5
}
