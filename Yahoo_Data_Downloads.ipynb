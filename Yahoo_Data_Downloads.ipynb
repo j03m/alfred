{
  "cells": [
    {
      "cell_type": "markdown",
      "metadata": {
        "id": "view-in-github",
        "colab_type": "text"
      },
      "source": [
        "<a href=\"https://colab.research.google.com/github/j03m/lstm-price-predictor/blob/main/Yahoo_Data_Downloads.ipynb\" target=\"_parent\"><img src=\"https://colab.research.google.com/assets/colab-badge.svg\" alt=\"Open In Colab\"/></a>"
      ]
    },
    {
      "cell_type": "code",
      "execution_count": null,
      "metadata": {
        "id": "pOQypqF_xA2T"
      },
      "outputs": [],
      "source": [
        "!pip install yfinance"
      ]
    },
    {
      "cell_type": "code",
      "source": [
        "# Mount Google Drive\n",
        "from google.colab import drive\n",
        "drive.mount('/content/drive')"
      ],
      "metadata": {
        "colab": {
          "base_uri": "https://localhost:8080/"
        },
        "id": "-7SILn_eeyA0",
        "outputId": "ebff5022-6d41-4ef3-e1af-1d88400daae8"
      },
      "execution_count": 2,
      "outputs": [
        {
          "output_type": "stream",
          "name": "stdout",
          "text": [
            "Mounted at /content/drive\n"
          ]
        }
      ]
    },
    {
      "cell_type": "code",
      "source": [
        "import yfinance as yf\n",
        "import pandas as pd\n",
        "from datetime import datetime, timedelta\n",
        "import requests\n",
        "import time\n",
        "import json as js\n",
        "\n",
        "today = datetime.today()\n",
        "delta60 = today - timedelta(days=60)\n",
        "delta120 = today - timedelta(days=120)\n",
        "data_path = '/content/drive/My Drive/ml-trde-notebooks/data'\n",
        "tickers = [\"SPY\", \"TSLA\", \"AAPL\", \"IBM\", \"F\", \"CAT\", \"BAC\", \"B\", \"META\", \"AMZN\", \"XOM\", \"BP\"]\n",
        "coins = [\"FCON-USDT\", \"GMT3L-USDT\", \"NEAR3L-USDT\", \"H2O-USDT\", \"DOGE3L-USDT\", \"DOGE3S-USDT\"]\n",
        "KUCOIN_REST_API = \"https://api.kucoin.com\"\n",
        "KUCOIN_CANDLES = KUCOIN_REST_API+ \"/api/v1/market/candles\"\n"
      ],
      "metadata": {
        "id": "ZrV1h2CDh96o"
      },
      "execution_count": 32,
      "outputs": []
    },
    {
      "cell_type": "code",
      "source": [
        "\n",
        "\n",
        "def fetch_klines(symbol, interval, start_time, end_time):\n",
        "\n",
        "    klines = []\n",
        "\n",
        "    # Calculate the maximum number of bars that can be retrieved per request\n",
        "    limit = 1500\n",
        "\n",
        "    interval_t = 86400\n",
        "\n",
        "    if interval == \"15min\":\n",
        "      interval_t = 900\n",
        "    elif interval == \"1day\":\n",
        "      interval_t = 86400\n",
        "    else:\n",
        "      raise Exception(interval + \" is unimplemented, add a mapping\")\n",
        "\n",
        "    # Keep sending requests until we have retrieved all of the data\n",
        "    while start_time < end_time:\n",
        "        \n",
        "        print(\"Fetching: \", symbol, \"for range: \" , datetime.fromtimestamp(end_time), \" to: \", datetime.fromtimestamp(start_time))\n",
        "        \n",
        "        # Send the request to the API\n",
        "        response = requests.get(\n",
        "            KUCOIN_CANDLES,\n",
        "            params={\n",
        "                \"symbol\": symbol,\n",
        "                \"type\": interval,\n",
        "                \"startAt\": start_time,\n",
        "                \"endAt\": end_time,\n",
        "            }\n",
        "        )\n",
        "\n",
        "      \n",
        "        # Append the klines to the list\n",
        "        response_text = response.text\n",
        "        response_data = js.loads(response_text);\n",
        "\n",
        "        # Check for errors\n",
        "        if (response_data[\"code\"] != \"200000\"):\n",
        "          raise Exception(\"Illegal response: \" + response_text)\n",
        "\n",
        "        # Update the start and end times for the next request\n",
        "        start_time = start_time - limit * interval_t\n",
        "        end_time = start_time\n",
        "\n",
        "        # Pause for a moment to avoid hitting the rate limit\n",
        "        time.sleep(3)\n",
        "\n",
        "    return response_data\n"
      ],
      "metadata": {
        "id": "vmQKmM64h12I"
      },
      "execution_count": 54,
      "outputs": []
    },
    {
      "cell_type": "code",
      "source": [
        "# minute bars\n",
        "for ticker in tickers:\n",
        "    tickerObj = yf.download(tickers = ticker, interval = \"15m\", start=delta60, end=today)\n",
        "    df = pd.DataFrame(tickerObj)\n",
        "    with open(data_path + \"/\" + ticker + \"-15.csv\", 'w', encoding = 'utf-8-sig') as f:\n",
        "      df.to_csv(f)"
      ],
      "metadata": {
        "colab": {
          "base_uri": "https://localhost:8080/"
        },
        "id": "z4mApput1KfD",
        "outputId": "2049f5ec-92f9-4f9d-91c8-9beb013a78ba"
      },
      "execution_count": 59,
      "outputs": [
        {
          "output_type": "stream",
          "name": "stdout",
          "text": [
            "[*********************100%***********************]  1 of 1 completed\n",
            "[*********************100%***********************]  1 of 1 completed\n",
            "[*********************100%***********************]  1 of 1 completed\n",
            "[*********************100%***********************]  1 of 1 completed\n",
            "[*********************100%***********************]  1 of 1 completed\n",
            "[*********************100%***********************]  1 of 1 completed\n",
            "[*********************100%***********************]  1 of 1 completed\n",
            "[*********************100%***********************]  1 of 1 completed\n",
            "[*********************100%***********************]  1 of 1 completed\n",
            "[*********************100%***********************]  1 of 1 completed\n",
            "[*********************100%***********************]  1 of 1 completed\n",
            "[*********************100%***********************]  1 of 1 completed\n"
          ]
        }
      ]
    },
    {
      "cell_type": "code",
      "execution_count": null,
      "metadata": {
        "id": "aL7yT2NByXZa"
      },
      "outputs": [],
      "source": [
        "# day bars\n",
        "for ticker in tickers:\n",
        "    tickerObj = yf.download(tickers = ticker, interval = \"1d\")\n",
        "    df = pd.DataFrame(tickerObj)\n",
        "    with open(data_path + \"/\" + ticker + \".csv\", 'w', encoding = 'utf-8-sig') as f:\n",
        "      df.to_csv(f)\n",
        "\n",
        "  "
      ]
    },
    {
      "cell_type": "code",
      "source": [
        "#download coins\n",
        "now = int(time.time())\n",
        "start_time = now - (365 * 24 * 60 * 60) *3 # seconds in a year *. 3 years\n",
        "end_time = now\n",
        "interval = \"1day\"\n",
        "# Fetch the klines\n",
        "for coin in coins:\n",
        "  klines = fetch_klines(coin, interval, start_time, end_time)\n",
        "  df_history = pd.DataFrame(klines[\"data\"])\n",
        "  df_history.columns = ['time','open','close','high','low','volume', 'amount']\n",
        "  df_history['time'] = [datetime.fromtimestamp(int(x)) for x in df_history['time']]\n",
        "  df_history['open'] = [float(x) for x in df_history['open']]\n",
        "  df_history['close'] = [float(x) for x in df_history['close']]\n",
        "  df_history['high'] = [float(x) for x in df_history['high']]\n",
        "  df_history['low'] = [float(x) for x in df_history['low']]\n",
        "  df_history['volume'] = [float(x) for x in df_history['volume']]\n",
        "  df_history = df_history.rename(columns={\"time\":\"Date\", \"open\":\"Open\", \"close\":\"Close\", \"high\":\"High\", \"low\":\"Low\", \"volume\": \"Volume\"})\n",
        "  with open(data_path + \"/\" + coin + \".csv\", 'w', encoding = 'utf-8-sig') as f:\n",
        "    df_history.to_csv(f)"
      ],
      "metadata": {
        "colab": {
          "base_uri": "https://localhost:8080/"
        },
        "id": "cF1HAgNGiG2v",
        "outputId": "99ee4557-30e8-440b-de8c-cd42073d7695"
      },
      "execution_count": 58,
      "outputs": [
        {
          "output_type": "stream",
          "name": "stdout",
          "text": [
            "Fetching:  FCON-USDT for range:  2023-01-08 23:29:04  to:  2020-01-09 23:29:04\n",
            "Fetching:  GMT3L-USDT for range:  2023-01-08 23:29:04  to:  2020-01-09 23:29:04\n",
            "Fetching:  NEAR3L-USDT for range:  2023-01-08 23:29:04  to:  2020-01-09 23:29:04\n",
            "Fetching:  H2O-USDT for range:  2023-01-08 23:29:04  to:  2020-01-09 23:29:04\n",
            "Fetching:  DOGE3L-USDT for range:  2023-01-08 23:29:04  to:  2020-01-09 23:29:04\n",
            "Fetching:  DOGE3S-USDT for range:  2023-01-08 23:29:04  to:  2020-01-09 23:29:04\n"
          ]
        }
      ]
    }
  ],
  "metadata": {
    "colab": {
      "provenance": [],
      "authorship_tag": "ABX9TyOjR0zQOd/aYECC+2s5Iswc",
      "include_colab_link": true
    },
    "kernelspec": {
      "display_name": "Python 3",
      "name": "python3"
    },
    "language_info": {
      "name": "python"
    }
  },
  "nbformat": 4,
  "nbformat_minor": 0
}